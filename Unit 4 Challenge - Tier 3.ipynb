{
 "cells": [
  {
   "cell_type": "markdown",
   "metadata": {
    "colab_type": "text",
    "id": "Tia3MP1SJpgj"
   },
   "source": [
    "# Springboard Data Science Career Track Unit 4 Challenge - Tier 3 Complete\n",
    "\n",
    "## Objectives\n",
    "Hey! Great job getting through those challenging DataCamp courses. You're learning a lot in a short span of time. \n",
    "\n",
    "In this notebook, you're going to apply the skills you've been learning, bridging the gap between the controlled environment of DataCamp and the *slightly* messier work that data scientists do with actual datasets!\n",
    "\n",
    "Here’s the mystery we’re going to solve: ***which boroughs of London have seen the greatest increase in housing prices, on average, over the last two decades?***\n",
    "\n",
    "\n",
    "A borough is just a fancy word for district. You may be familiar with the five boroughs of New York… well, there are 32 boroughs within Greater London [(here's some info for the curious)](https://en.wikipedia.org/wiki/London_boroughs). Some of them are more desirable areas to live in, and the data will reflect that with a greater rise in housing prices.\n",
    "\n",
    "***This is the Tier 3 notebook, which means it's not filled in at all: we'll just give you the skeleton of a project, the brief and the data. It's up to you to play around with it and see what you can find out! Good luck! If you struggle, feel free to look at easier tiers for help; but try to dip in and out of them, as the more independent work you do, the better it is for your learning!***\n",
    "\n",
    "This challenge will make use of only what you learned in the following DataCamp courses: \n",
    "- Prework courses (Introduction to Python for Data Science, Intermediate Python for Data Science)\n",
    "- Data Types for Data Science\n",
    "- Python Data Science Toolbox (Part One) \n",
    "- pandas Foundations\n",
    "- Manipulating DataFrames with pandas\n",
    "- Merging DataFrames with pandas\n",
    "\n",
    "Of the tools, techniques and concepts in the above DataCamp courses, this challenge should require the application of the following: \n",
    "- **pandas**\n",
    "    - **data ingestion and inspection** (pandas Foundations, Module One) \n",
    "    - **exploratory data analysis** (pandas Foundations, Module Two)\n",
    "    - **tidying and cleaning** (Manipulating DataFrames with pandas, Module Three) \n",
    "    - **transforming DataFrames** (Manipulating DataFrames with pandas, Module One)\n",
    "    - **subsetting DataFrames with lists** (Manipulating DataFrames with pandas, Module One) \n",
    "    - **filtering DataFrames** (Manipulating DataFrames with pandas, Module One) \n",
    "    - **grouping data** (Manipulating DataFrames with pandas, Module Four) \n",
    "    - **melting data** (Manipulating DataFrames with pandas, Module Three) \n",
    "    - **advanced indexing** (Manipulating DataFrames with pandas, Module Four) \n",
    "- **matplotlib** (Intermediate Python for Data Science, Module One)\n",
    "- **fundamental data types** (Data Types for Data Science, Module One) \n",
    "- **dictionaries** (Intermediate Python for Data Science, Module Two)\n",
    "- **handling dates and times** (Data Types for Data Science, Module Four)\n",
    "- **function definition** (Python Data Science Toolbox - Part One, Module One)\n",
    "- **default arguments, variable length, and scope** (Python Data Science Toolbox - Part One, Module Two) \n",
    "- **lambda functions and error handling** (Python Data Science Toolbox - Part One, Module Four) "
   ]
  },
  {
   "cell_type": "markdown",
   "metadata": {
    "colab_type": "text",
    "id": "Ipgd2nV8Jpgl"
   },
   "source": [
    "## The Data Science Pipeline\n",
    "\n",
    "This is Tier Three, so we'll get you started. But after that, it's all in your hands! When you feel done with your investigations, look back over what you've accomplished, and prepare a quick presentation of your findings for the next mentor meeting. \n",
    "\n",
    "Data Science is magical. In this case study, you'll get to apply some complex machine learning algorithms. But as  [David Spiegelhalter](https://www.youtube.com/watch?v=oUs1uvsz0Ok) reminds us, there is no substitute for simply **taking a really, really good look at the data.** Sometimes, this is all we need to answer our question.\n",
    "\n",
    "Data Science projects generally adhere to the four stages of Data Science Pipeline:\n",
    "1. Sourcing and loading \n",
    "2. Cleaning, transforming, and visualizing \n",
    "3. Modeling \n",
    "4. Evaluating and concluding \n"
   ]
  },
  {
   "cell_type": "markdown",
   "metadata": {
    "colab_type": "text",
    "id": "zswDqbefJpgm"
   },
   "source": [
    "### 1. Sourcing and Loading \n",
    "\n",
    "Any Data Science project kicks off by importing  ***pandas***. The documentation of this wonderful library can be found [here](https://pandas.pydata.org/). As you've seen, pandas is conveniently connected to the [Numpy](http://www.numpy.org/) and [Matplotlib](https://matplotlib.org/) libraries. \n",
    "\n",
    "***Hint:*** This part of the data science pipeline will test those skills you acquired in the pandas Foundations course, Module One. "
   ]
  },
  {
   "cell_type": "markdown",
   "metadata": {
    "colab_type": "text",
    "id": "aEau5nEvJpgm"
   },
   "source": [
    "#### 1.1. Importing Libraries"
   ]
  },
  {
   "cell_type": "code",
   "execution_count": 1,
   "metadata": {
    "colab": {},
    "colab_type": "code",
    "id": "7Bt_Q_oPJpgn"
   },
   "outputs": [],
   "source": [
    "# Let's import the pandas, numpy libraries as pd, and np respectively. \n",
    "import pandas as pd\n",
    "import numpy as np\n",
    "# Load the pyplot collection of functions from matplotlib, as plt \n",
    "import matplotlib.pyplot as plt"
   ]
  },
  {
   "cell_type": "markdown",
   "metadata": {
    "colab_type": "text",
    "id": "koUrawxsJpgq"
   },
   "source": [
    "#### 1.2.  Loading the data\n",
    "Your data comes from the [London Datastore](https://data.london.gov.uk/): a free, open-source data-sharing portal for London-oriented datasets. "
   ]
  },
  {
   "cell_type": "code",
   "execution_count": 2,
   "metadata": {
    "colab": {},
    "colab_type": "code",
    "id": "AiLiD4v3Jpgr"
   },
   "outputs": [],
   "source": [
    "# First, make a variable called url_LondonHousePrices, and assign it the following link, enclosed in quotation-marks as a string:\n",
    "# https://data.london.gov.uk/download/uk-house-price-index/70ac0766-8902-4eb5-aab5-01951aaed773/UK%20House%20price%20index.xls\n",
    "\n",
    "url_LondonHousePrices = \"https://data.london.gov.uk/download/uk-house-price-index/70ac0766-8902-4eb5-aab5-01951aaed773/UK%20House%20price%20index.xls\"\n",
    "\n",
    "# The dataset we're interested in contains the Average prices of the houses, and is actually on a particular sheet of the Excel file. \n",
    "# As a result, we need to specify the sheet name in the read_excel() method.\n",
    "# Put this data into a variable called properties.  \n",
    "properties = pd.read_excel(url_LondonHousePrices, sheet_name='Average price', index_col= None)"
   ]
  },
  {
   "cell_type": "markdown",
   "metadata": {
    "colab_type": "text",
    "id": "POukEJXgJpgu"
   },
   "source": [
    "### 2. Cleaning, transforming, and visualizing\n",
    "This second stage is arguably the most important part of any Data Science project. The first thing to do is take a proper look at the data. Cleaning forms the majority of this stage, and can be done both before or after Transformation.\n",
    "\n",
    "The end goal of data cleaning is to have tidy data. When data is tidy: \n",
    "\n",
    "1. Each variable has a column.\n",
    "2. Each observation forms a row.\n",
    "\n",
    "Keep the end goal in mind as you move through this process, every step will take you closer. \n",
    "\n",
    "\n",
    "\n",
    "***Hint:*** This part of the data science pipeline should test those skills you acquired in: \n",
    "- Intermediate Python for data science, all modules.\n",
    "- pandas Foundations, all modules. \n",
    "- Manipulating DataFrames with pandas, all modules.\n",
    "- Data Types for Data Science, Module Four.\n",
    "- Python Data Science Toolbox - Part One, all modules"
   ]
  },
  {
   "cell_type": "markdown",
   "metadata": {
    "colab_type": "text",
    "id": "Te0Q548tnzZa"
   },
   "source": [
    "**2.1. Exploring your data** \n",
    "\n",
    "Think about your pandas functions for checking out a dataframe. "
   ]
  },
  {
   "cell_type": "code",
   "execution_count": 3,
   "metadata": {
    "colab": {},
    "colab_type": "code",
    "id": "Rxirxw_qoAJa"
   },
   "outputs": [
    {
     "data": {
      "text/html": [
       "<div>\n",
       "<style scoped>\n",
       "    .dataframe tbody tr th:only-of-type {\n",
       "        vertical-align: middle;\n",
       "    }\n",
       "\n",
       "    .dataframe tbody tr th {\n",
       "        vertical-align: top;\n",
       "    }\n",
       "\n",
       "    .dataframe thead th {\n",
       "        text-align: right;\n",
       "    }\n",
       "</style>\n",
       "<table border=\"1\" class=\"dataframe\">\n",
       "  <thead>\n",
       "    <tr style=\"text-align: right;\">\n",
       "      <th></th>\n",
       "      <th>Unnamed: 0</th>\n",
       "      <th>City of London</th>\n",
       "      <th>Barking &amp; Dagenham</th>\n",
       "      <th>Barnet</th>\n",
       "      <th>Bexley</th>\n",
       "      <th>Brent</th>\n",
       "      <th>Bromley</th>\n",
       "      <th>Camden</th>\n",
       "      <th>Croydon</th>\n",
       "      <th>Ealing</th>\n",
       "      <th>...</th>\n",
       "      <th>NORTH WEST</th>\n",
       "      <th>YORKS &amp; THE HUMBER</th>\n",
       "      <th>EAST MIDLANDS</th>\n",
       "      <th>WEST MIDLANDS</th>\n",
       "      <th>EAST OF ENGLAND</th>\n",
       "      <th>LONDON</th>\n",
       "      <th>SOUTH EAST</th>\n",
       "      <th>SOUTH WEST</th>\n",
       "      <th>Unnamed: 47</th>\n",
       "      <th>England</th>\n",
       "    </tr>\n",
       "  </thead>\n",
       "  <tbody>\n",
       "    <tr>\n",
       "      <th>0</th>\n",
       "      <td>NaT</td>\n",
       "      <td>E09000001</td>\n",
       "      <td>E09000002</td>\n",
       "      <td>E09000003</td>\n",
       "      <td>E09000004</td>\n",
       "      <td>E09000005</td>\n",
       "      <td>E09000006</td>\n",
       "      <td>E09000007</td>\n",
       "      <td>E09000008</td>\n",
       "      <td>E09000009</td>\n",
       "      <td>...</td>\n",
       "      <td>E12000002</td>\n",
       "      <td>E12000003</td>\n",
       "      <td>E12000004</td>\n",
       "      <td>E12000005</td>\n",
       "      <td>E12000006</td>\n",
       "      <td>E12000007</td>\n",
       "      <td>E12000008</td>\n",
       "      <td>E12000009</td>\n",
       "      <td>NaN</td>\n",
       "      <td>E92000001</td>\n",
       "    </tr>\n",
       "    <tr>\n",
       "      <th>1</th>\n",
       "      <td>1995-01-01</td>\n",
       "      <td>91448.98487</td>\n",
       "      <td>50460.2266</td>\n",
       "      <td>93284.51832</td>\n",
       "      <td>64958.09036</td>\n",
       "      <td>71306.56698</td>\n",
       "      <td>81671.47692</td>\n",
       "      <td>120932.8881</td>\n",
       "      <td>69158.16225</td>\n",
       "      <td>79885.89069</td>\n",
       "      <td>...</td>\n",
       "      <td>43958.48001</td>\n",
       "      <td>44803.42878</td>\n",
       "      <td>45544.52227</td>\n",
       "      <td>48527.52339</td>\n",
       "      <td>56701.5961</td>\n",
       "      <td>74435.76052</td>\n",
       "      <td>64018.87894</td>\n",
       "      <td>54705.1579</td>\n",
       "      <td>NaN</td>\n",
       "      <td>53202.77128</td>\n",
       "    </tr>\n",
       "  </tbody>\n",
       "</table>\n",
       "<p>2 rows × 49 columns</p>\n",
       "</div>"
      ],
      "text/plain": [
       "  Unnamed: 0 City of London Barking & Dagenham       Barnet       Bexley  \\\n",
       "0        NaT      E09000001          E09000002    E09000003    E09000004   \n",
       "1 1995-01-01    91448.98487         50460.2266  93284.51832  64958.09036   \n",
       "\n",
       "         Brent      Bromley       Camden      Croydon       Ealing  ...  \\\n",
       "0    E09000005    E09000006    E09000007    E09000008    E09000009  ...   \n",
       "1  71306.56698  81671.47692  120932.8881  69158.16225  79885.89069  ...   \n",
       "\n",
       "    NORTH WEST YORKS & THE HUMBER EAST MIDLANDS WEST MIDLANDS EAST OF ENGLAND  \\\n",
       "0    E12000002          E12000003     E12000004     E12000005       E12000006   \n",
       "1  43958.48001        44803.42878   45544.52227   48527.52339      56701.5961   \n",
       "\n",
       "        LONDON   SOUTH EAST  SOUTH WEST Unnamed: 47      England  \n",
       "0    E12000007    E12000008   E12000009         NaN    E92000001  \n",
       "1  74435.76052  64018.87894  54705.1579         NaN  53202.77128  \n",
       "\n",
       "[2 rows x 49 columns]"
      ]
     },
     "execution_count": 3,
     "metadata": {},
     "output_type": "execute_result"
    }
   ],
   "source": [
    "properties.head(2)"
   ]
  },
  {
   "cell_type": "code",
   "execution_count": 4,
   "metadata": {},
   "outputs": [
    {
     "data": {
      "text/plain": [
       "(318, 49)"
      ]
     },
     "execution_count": 4,
     "metadata": {},
     "output_type": "execute_result"
    }
   ],
   "source": [
    "properties.shape"
   ]
  },
  {
   "cell_type": "code",
   "execution_count": 5,
   "metadata": {},
   "outputs": [
    {
     "data": {
      "text/plain": [
       "RangeIndex(start=0, stop=318, step=1)"
      ]
     },
     "execution_count": 5,
     "metadata": {},
     "output_type": "execute_result"
    }
   ],
   "source": [
    "properties.index"
   ]
  },
  {
   "cell_type": "code",
   "execution_count": 6,
   "metadata": {},
   "outputs": [
    {
     "data": {
      "text/plain": [
       "Index(['Unnamed: 0', 'City of London', 'Barking & Dagenham', 'Barnet',\n",
       "       'Bexley', 'Brent', 'Bromley', 'Camden', 'Croydon', 'Ealing', 'Enfield',\n",
       "       'Greenwich', 'Hackney', 'Hammersmith & Fulham', 'Haringey', 'Harrow',\n",
       "       'Havering', 'Hillingdon', 'Hounslow', 'Islington',\n",
       "       'Kensington & Chelsea', 'Kingston upon Thames', 'Lambeth', 'Lewisham',\n",
       "       'Merton', 'Newham', 'Redbridge', 'Richmond upon Thames', 'Southwark',\n",
       "       'Sutton', 'Tower Hamlets', 'Waltham Forest', 'Wandsworth',\n",
       "       'Westminster', 'Unnamed: 34', 'Inner London', 'Outer London',\n",
       "       'Unnamed: 37', 'NORTH EAST', 'NORTH WEST', 'YORKS & THE HUMBER',\n",
       "       'EAST MIDLANDS', 'WEST MIDLANDS', 'EAST OF ENGLAND', 'LONDON',\n",
       "       'SOUTH EAST', 'SOUTH WEST', 'Unnamed: 47', 'England'],\n",
       "      dtype='object')"
      ]
     },
     "execution_count": 6,
     "metadata": {},
     "output_type": "execute_result"
    }
   ],
   "source": [
    "# this columns names has to be transpose, so we have a columns with london borrow, date, date(average_price),  and the id \n",
    "properties.columns"
   ]
  },
  {
   "cell_type": "markdown",
   "metadata": {
    "colab_type": "text",
    "id": "tE9Sqt9-oAta"
   },
   "source": [
    "**2.2. Cleaning the data**\n",
    "\n",
    "You might find you need to transpose your dataframe, check out what its row indexes are, and reset the index. You  also might find you need to assign the values of the first row to your column headings  . (Hint: recall the .columns feature of DataFrames, as well as the iloc[] method).\n",
    "\n",
    "Don't be afraid to use StackOverflow for help  with this."
   ]
  },
  {
   "cell_type": "code",
   "execution_count": 7,
   "metadata": {
    "colab": {},
    "colab_type": "code",
    "id": "cdAu1A3YoH_r"
   },
   "outputs": [],
   "source": [
    "properties = properties.transpose()"
   ]
  },
  {
   "cell_type": "code",
   "execution_count": 8,
   "metadata": {},
   "outputs": [
    {
     "data": {
      "text/html": [
       "<div>\n",
       "<style scoped>\n",
       "    .dataframe tbody tr th:only-of-type {\n",
       "        vertical-align: middle;\n",
       "    }\n",
       "\n",
       "    .dataframe tbody tr th {\n",
       "        vertical-align: top;\n",
       "    }\n",
       "\n",
       "    .dataframe thead th {\n",
       "        text-align: right;\n",
       "    }\n",
       "</style>\n",
       "<table border=\"1\" class=\"dataframe\">\n",
       "  <thead>\n",
       "    <tr style=\"text-align: right;\">\n",
       "      <th></th>\n",
       "      <th>0</th>\n",
       "      <th>1</th>\n",
       "      <th>2</th>\n",
       "      <th>3</th>\n",
       "      <th>4</th>\n",
       "      <th>5</th>\n",
       "      <th>6</th>\n",
       "      <th>7</th>\n",
       "      <th>8</th>\n",
       "      <th>9</th>\n",
       "      <th>...</th>\n",
       "      <th>308</th>\n",
       "      <th>309</th>\n",
       "      <th>310</th>\n",
       "      <th>311</th>\n",
       "      <th>312</th>\n",
       "      <th>313</th>\n",
       "      <th>314</th>\n",
       "      <th>315</th>\n",
       "      <th>316</th>\n",
       "      <th>317</th>\n",
       "    </tr>\n",
       "  </thead>\n",
       "  <tbody>\n",
       "    <tr>\n",
       "      <th>Unnamed: 0</th>\n",
       "      <td>NaT</td>\n",
       "      <td>1995-01-01 00:00:00</td>\n",
       "      <td>1995-02-01 00:00:00</td>\n",
       "      <td>1995-03-01 00:00:00</td>\n",
       "      <td>1995-04-01 00:00:00</td>\n",
       "      <td>1995-05-01 00:00:00</td>\n",
       "      <td>1995-06-01 00:00:00</td>\n",
       "      <td>1995-07-01 00:00:00</td>\n",
       "      <td>1995-08-01 00:00:00</td>\n",
       "      <td>1995-09-01 00:00:00</td>\n",
       "      <td>...</td>\n",
       "      <td>2020-08-01 00:00:00</td>\n",
       "      <td>2020-09-01 00:00:00</td>\n",
       "      <td>2020-10-01 00:00:00</td>\n",
       "      <td>2020-11-01 00:00:00</td>\n",
       "      <td>2020-12-01 00:00:00</td>\n",
       "      <td>2021-01-01 00:00:00</td>\n",
       "      <td>2021-02-01 00:00:00</td>\n",
       "      <td>2021-03-01 00:00:00</td>\n",
       "      <td>2021-04-01 00:00:00</td>\n",
       "      <td>2021-05-01 00:00:00</td>\n",
       "    </tr>\n",
       "    <tr>\n",
       "      <th>City of London</th>\n",
       "      <td>E09000001</td>\n",
       "      <td>91448.98487</td>\n",
       "      <td>82202.77314</td>\n",
       "      <td>79120.70256</td>\n",
       "      <td>77101.20804</td>\n",
       "      <td>84409.14932</td>\n",
       "      <td>94900.51244</td>\n",
       "      <td>110128.0423</td>\n",
       "      <td>112329.4376</td>\n",
       "      <td>104473.1096</td>\n",
       "      <td>...</td>\n",
       "      <td>827658.5167</td>\n",
       "      <td>798499.1646</td>\n",
       "      <td>836807.0518</td>\n",
       "      <td>769391.7847</td>\n",
       "      <td>801999.0466</td>\n",
       "      <td>760599.2322</td>\n",
       "      <td>729315.7243</td>\n",
       "      <td>717528.2633</td>\n",
       "      <td>713094.5391</td>\n",
       "      <td>765822.2726</td>\n",
       "    </tr>\n",
       "    <tr>\n",
       "      <th>Barking &amp; Dagenham</th>\n",
       "      <td>E09000002</td>\n",
       "      <td>50460.2266</td>\n",
       "      <td>51085.77983</td>\n",
       "      <td>51268.96956</td>\n",
       "      <td>53133.50526</td>\n",
       "      <td>53042.24852</td>\n",
       "      <td>53700.34831</td>\n",
       "      <td>52113.12157</td>\n",
       "      <td>52232.19868</td>\n",
       "      <td>51471.61353</td>\n",
       "      <td>...</td>\n",
       "      <td>304923.5027</td>\n",
       "      <td>301702.4656</td>\n",
       "      <td>304852.1338</td>\n",
       "      <td>305012.3291</td>\n",
       "      <td>309560.1023</td>\n",
       "      <td>311007.1517</td>\n",
       "      <td>313835.8023</td>\n",
       "      <td>314187.4036</td>\n",
       "      <td>309680.5549</td>\n",
       "      <td>308760.1446</td>\n",
       "    </tr>\n",
       "  </tbody>\n",
       "</table>\n",
       "<p>3 rows × 318 columns</p>\n",
       "</div>"
      ],
      "text/plain": [
       "                          0                    1                    2    \\\n",
       "Unnamed: 0                NaT  1995-01-01 00:00:00  1995-02-01 00:00:00   \n",
       "City of London      E09000001          91448.98487          82202.77314   \n",
       "Barking & Dagenham  E09000002           50460.2266          51085.77983   \n",
       "\n",
       "                                    3                    4    \\\n",
       "Unnamed: 0          1995-03-01 00:00:00  1995-04-01 00:00:00   \n",
       "City of London              79120.70256          77101.20804   \n",
       "Barking & Dagenham          51268.96956          53133.50526   \n",
       "\n",
       "                                    5                    6    \\\n",
       "Unnamed: 0          1995-05-01 00:00:00  1995-06-01 00:00:00   \n",
       "City of London              84409.14932          94900.51244   \n",
       "Barking & Dagenham          53042.24852          53700.34831   \n",
       "\n",
       "                                    7                    8    \\\n",
       "Unnamed: 0          1995-07-01 00:00:00  1995-08-01 00:00:00   \n",
       "City of London              110128.0423          112329.4376   \n",
       "Barking & Dagenham          52113.12157          52232.19868   \n",
       "\n",
       "                                    9    ...                  308  \\\n",
       "Unnamed: 0          1995-09-01 00:00:00  ...  2020-08-01 00:00:00   \n",
       "City of London              104473.1096  ...          827658.5167   \n",
       "Barking & Dagenham          51471.61353  ...          304923.5027   \n",
       "\n",
       "                                    309                  310  \\\n",
       "Unnamed: 0          2020-09-01 00:00:00  2020-10-01 00:00:00   \n",
       "City of London              798499.1646          836807.0518   \n",
       "Barking & Dagenham          301702.4656          304852.1338   \n",
       "\n",
       "                                    311                  312  \\\n",
       "Unnamed: 0          2020-11-01 00:00:00  2020-12-01 00:00:00   \n",
       "City of London              769391.7847          801999.0466   \n",
       "Barking & Dagenham          305012.3291          309560.1023   \n",
       "\n",
       "                                    313                  314  \\\n",
       "Unnamed: 0          2021-01-01 00:00:00  2021-02-01 00:00:00   \n",
       "City of London              760599.2322          729315.7243   \n",
       "Barking & Dagenham          311007.1517          313835.8023   \n",
       "\n",
       "                                    315                  316  \\\n",
       "Unnamed: 0          2021-03-01 00:00:00  2021-04-01 00:00:00   \n",
       "City of London              717528.2633          713094.5391   \n",
       "Barking & Dagenham          314187.4036          309680.5549   \n",
       "\n",
       "                                    317  \n",
       "Unnamed: 0          2021-05-01 00:00:00  \n",
       "City of London              765822.2726  \n",
       "Barking & Dagenham          308760.1446  \n",
       "\n",
       "[3 rows x 318 columns]"
      ]
     },
     "execution_count": 8,
     "metadata": {},
     "output_type": "execute_result"
    }
   ],
   "source": [
    "properties.head(3)"
   ]
  },
  {
   "cell_type": "code",
   "execution_count": 9,
   "metadata": {},
   "outputs": [
    {
     "data": {
      "text/plain": [
       "Index(['Unnamed: 0', 'City of London', 'Barking & Dagenham', 'Barnet',\n",
       "       'Bexley', 'Brent', 'Bromley', 'Camden', 'Croydon', 'Ealing', 'Enfield',\n",
       "       'Greenwich', 'Hackney', 'Hammersmith & Fulham', 'Haringey', 'Harrow',\n",
       "       'Havering', 'Hillingdon', 'Hounslow', 'Islington',\n",
       "       'Kensington & Chelsea', 'Kingston upon Thames', 'Lambeth', 'Lewisham',\n",
       "       'Merton', 'Newham', 'Redbridge', 'Richmond upon Thames', 'Southwark',\n",
       "       'Sutton', 'Tower Hamlets', 'Waltham Forest', 'Wandsworth',\n",
       "       'Westminster', 'Unnamed: 34', 'Inner London', 'Outer London',\n",
       "       'Unnamed: 37', 'NORTH EAST', 'NORTH WEST', 'YORKS & THE HUMBER',\n",
       "       'EAST MIDLANDS', 'WEST MIDLANDS', 'EAST OF ENGLAND', 'LONDON',\n",
       "       'SOUTH EAST', 'SOUTH WEST', 'Unnamed: 47', 'England'],\n",
       "      dtype='object')"
      ]
     },
     "execution_count": 9,
     "metadata": {},
     "output_type": "execute_result"
    }
   ],
   "source": [
    "properties.index"
   ]
  },
  {
   "cell_type": "code",
   "execution_count": 10,
   "metadata": {},
   "outputs": [
    {
     "data": {
      "text/html": [
       "<div>\n",
       "<style scoped>\n",
       "    .dataframe tbody tr th:only-of-type {\n",
       "        vertical-align: middle;\n",
       "    }\n",
       "\n",
       "    .dataframe tbody tr th {\n",
       "        vertical-align: top;\n",
       "    }\n",
       "\n",
       "    .dataframe thead th {\n",
       "        text-align: right;\n",
       "    }\n",
       "</style>\n",
       "<table border=\"1\" class=\"dataframe\">\n",
       "  <thead>\n",
       "    <tr style=\"text-align: right;\">\n",
       "      <th></th>\n",
       "      <th>NaT</th>\n",
       "      <th>1995-01-01</th>\n",
       "      <th>1995-02-01</th>\n",
       "      <th>1995-03-01</th>\n",
       "      <th>1995-04-01</th>\n",
       "      <th>1995-05-01</th>\n",
       "      <th>1995-06-01</th>\n",
       "      <th>1995-07-01</th>\n",
       "      <th>1995-08-01</th>\n",
       "      <th>1995-09-01</th>\n",
       "      <th>...</th>\n",
       "      <th>2020-08-01</th>\n",
       "      <th>2020-09-01</th>\n",
       "      <th>2020-10-01</th>\n",
       "      <th>2020-11-01</th>\n",
       "      <th>2020-12-01</th>\n",
       "      <th>2021-01-01</th>\n",
       "      <th>2021-02-01</th>\n",
       "      <th>2021-03-01</th>\n",
       "      <th>2021-04-01</th>\n",
       "      <th>2021-05-01</th>\n",
       "    </tr>\n",
       "  </thead>\n",
       "  <tbody>\n",
       "    <tr>\n",
       "      <th>Unnamed: 0</th>\n",
       "      <td>NaT</td>\n",
       "      <td>1995-01-01 00:00:00</td>\n",
       "      <td>1995-02-01 00:00:00</td>\n",
       "      <td>1995-03-01 00:00:00</td>\n",
       "      <td>1995-04-01 00:00:00</td>\n",
       "      <td>1995-05-01 00:00:00</td>\n",
       "      <td>1995-06-01 00:00:00</td>\n",
       "      <td>1995-07-01 00:00:00</td>\n",
       "      <td>1995-08-01 00:00:00</td>\n",
       "      <td>1995-09-01 00:00:00</td>\n",
       "      <td>...</td>\n",
       "      <td>2020-08-01 00:00:00</td>\n",
       "      <td>2020-09-01 00:00:00</td>\n",
       "      <td>2020-10-01 00:00:00</td>\n",
       "      <td>2020-11-01 00:00:00</td>\n",
       "      <td>2020-12-01 00:00:00</td>\n",
       "      <td>2021-01-01 00:00:00</td>\n",
       "      <td>2021-02-01 00:00:00</td>\n",
       "      <td>2021-03-01 00:00:00</td>\n",
       "      <td>2021-04-01 00:00:00</td>\n",
       "      <td>2021-05-01 00:00:00</td>\n",
       "    </tr>\n",
       "    <tr>\n",
       "      <th>City of London</th>\n",
       "      <td>E09000001</td>\n",
       "      <td>91448.98487</td>\n",
       "      <td>82202.77314</td>\n",
       "      <td>79120.70256</td>\n",
       "      <td>77101.20804</td>\n",
       "      <td>84409.14932</td>\n",
       "      <td>94900.51244</td>\n",
       "      <td>110128.0423</td>\n",
       "      <td>112329.4376</td>\n",
       "      <td>104473.1096</td>\n",
       "      <td>...</td>\n",
       "      <td>827658.5167</td>\n",
       "      <td>798499.1646</td>\n",
       "      <td>836807.0518</td>\n",
       "      <td>769391.7847</td>\n",
       "      <td>801999.0466</td>\n",
       "      <td>760599.2322</td>\n",
       "      <td>729315.7243</td>\n",
       "      <td>717528.2633</td>\n",
       "      <td>713094.5391</td>\n",
       "      <td>765822.2726</td>\n",
       "    </tr>\n",
       "    <tr>\n",
       "      <th>Barking &amp; Dagenham</th>\n",
       "      <td>E09000002</td>\n",
       "      <td>50460.2266</td>\n",
       "      <td>51085.77983</td>\n",
       "      <td>51268.96956</td>\n",
       "      <td>53133.50526</td>\n",
       "      <td>53042.24852</td>\n",
       "      <td>53700.34831</td>\n",
       "      <td>52113.12157</td>\n",
       "      <td>52232.19868</td>\n",
       "      <td>51471.61353</td>\n",
       "      <td>...</td>\n",
       "      <td>304923.5027</td>\n",
       "      <td>301702.4656</td>\n",
       "      <td>304852.1338</td>\n",
       "      <td>305012.3291</td>\n",
       "      <td>309560.1023</td>\n",
       "      <td>311007.1517</td>\n",
       "      <td>313835.8023</td>\n",
       "      <td>314187.4036</td>\n",
       "      <td>309680.5549</td>\n",
       "      <td>308760.1446</td>\n",
       "    </tr>\n",
       "  </tbody>\n",
       "</table>\n",
       "<p>3 rows × 318 columns</p>\n",
       "</div>"
      ],
      "text/plain": [
       "                          NaT           1995-01-01           1995-02-01  \\\n",
       "Unnamed: 0                NaT  1995-01-01 00:00:00  1995-02-01 00:00:00   \n",
       "City of London      E09000001          91448.98487          82202.77314   \n",
       "Barking & Dagenham  E09000002           50460.2266          51085.77983   \n",
       "\n",
       "                             1995-03-01           1995-04-01  \\\n",
       "Unnamed: 0          1995-03-01 00:00:00  1995-04-01 00:00:00   \n",
       "City of London              79120.70256          77101.20804   \n",
       "Barking & Dagenham          51268.96956          53133.50526   \n",
       "\n",
       "                             1995-05-01           1995-06-01  \\\n",
       "Unnamed: 0          1995-05-01 00:00:00  1995-06-01 00:00:00   \n",
       "City of London              84409.14932          94900.51244   \n",
       "Barking & Dagenham          53042.24852          53700.34831   \n",
       "\n",
       "                             1995-07-01           1995-08-01  \\\n",
       "Unnamed: 0          1995-07-01 00:00:00  1995-08-01 00:00:00   \n",
       "City of London              110128.0423          112329.4376   \n",
       "Barking & Dagenham          52113.12157          52232.19868   \n",
       "\n",
       "                             1995-09-01  ...           2020-08-01  \\\n",
       "Unnamed: 0          1995-09-01 00:00:00  ...  2020-08-01 00:00:00   \n",
       "City of London              104473.1096  ...          827658.5167   \n",
       "Barking & Dagenham          51471.61353  ...          304923.5027   \n",
       "\n",
       "                             2020-09-01           2020-10-01  \\\n",
       "Unnamed: 0          2020-09-01 00:00:00  2020-10-01 00:00:00   \n",
       "City of London              798499.1646          836807.0518   \n",
       "Barking & Dagenham          301702.4656          304852.1338   \n",
       "\n",
       "                             2020-11-01           2020-12-01  \\\n",
       "Unnamed: 0          2020-11-01 00:00:00  2020-12-01 00:00:00   \n",
       "City of London              769391.7847          801999.0466   \n",
       "Barking & Dagenham          305012.3291          309560.1023   \n",
       "\n",
       "                             2021-01-01           2021-02-01  \\\n",
       "Unnamed: 0          2021-01-01 00:00:00  2021-02-01 00:00:00   \n",
       "City of London              760599.2322          729315.7243   \n",
       "Barking & Dagenham          311007.1517          313835.8023   \n",
       "\n",
       "                             2021-03-01           2021-04-01  \\\n",
       "Unnamed: 0          2021-03-01 00:00:00  2021-04-01 00:00:00   \n",
       "City of London              717528.2633          713094.5391   \n",
       "Barking & Dagenham          314187.4036          309680.5549   \n",
       "\n",
       "                             2021-05-01  \n",
       "Unnamed: 0          2021-05-01 00:00:00  \n",
       "City of London              765822.2726  \n",
       "Barking & Dagenham          308760.1446  \n",
       "\n",
       "[3 rows x 318 columns]"
      ]
     },
     "execution_count": 10,
     "metadata": {},
     "output_type": "execute_result"
    }
   ],
   "source": [
    "# new_header = df.iloc[0] #grab the first row for the header\n",
    "# df = df[1:] #take the data less the header row\n",
    "# df.columns = new_header #set the header row as the df header\n",
    "#\n",
    "#df.rename(columns=df.iloc[0])\n",
    "properties = properties.rename(columns=properties.iloc[0])\n",
    "properties.head(3)"
   ]
  },
  {
   "cell_type": "code",
   "execution_count": 11,
   "metadata": {},
   "outputs": [
    {
     "data": {
      "text/html": [
       "<div>\n",
       "<style scoped>\n",
       "    .dataframe tbody tr th:only-of-type {\n",
       "        vertical-align: middle;\n",
       "    }\n",
       "\n",
       "    .dataframe tbody tr th {\n",
       "        vertical-align: top;\n",
       "    }\n",
       "\n",
       "    .dataframe thead th {\n",
       "        text-align: right;\n",
       "    }\n",
       "</style>\n",
       "<table border=\"1\" class=\"dataframe\">\n",
       "  <thead>\n",
       "    <tr style=\"text-align: right;\">\n",
       "      <th></th>\n",
       "      <th>index</th>\n",
       "      <th>NaN</th>\n",
       "      <th>1995-01-01 00:00:00</th>\n",
       "      <th>1995-02-01 00:00:00</th>\n",
       "      <th>1995-03-01 00:00:00</th>\n",
       "      <th>1995-04-01 00:00:00</th>\n",
       "      <th>1995-05-01 00:00:00</th>\n",
       "      <th>1995-06-01 00:00:00</th>\n",
       "      <th>1995-07-01 00:00:00</th>\n",
       "      <th>1995-08-01 00:00:00</th>\n",
       "      <th>...</th>\n",
       "      <th>2020-08-01 00:00:00</th>\n",
       "      <th>2020-09-01 00:00:00</th>\n",
       "      <th>2020-10-01 00:00:00</th>\n",
       "      <th>2020-11-01 00:00:00</th>\n",
       "      <th>2020-12-01 00:00:00</th>\n",
       "      <th>2021-01-01 00:00:00</th>\n",
       "      <th>2021-02-01 00:00:00</th>\n",
       "      <th>2021-03-01 00:00:00</th>\n",
       "      <th>2021-04-01 00:00:00</th>\n",
       "      <th>2021-05-01 00:00:00</th>\n",
       "    </tr>\n",
       "  </thead>\n",
       "  <tbody>\n",
       "    <tr>\n",
       "      <th>0</th>\n",
       "      <td>Unnamed: 0</td>\n",
       "      <td>NaT</td>\n",
       "      <td>1995-01-01 00:00:00</td>\n",
       "      <td>1995-02-01 00:00:00</td>\n",
       "      <td>1995-03-01 00:00:00</td>\n",
       "      <td>1995-04-01 00:00:00</td>\n",
       "      <td>1995-05-01 00:00:00</td>\n",
       "      <td>1995-06-01 00:00:00</td>\n",
       "      <td>1995-07-01 00:00:00</td>\n",
       "      <td>1995-08-01 00:00:00</td>\n",
       "      <td>...</td>\n",
       "      <td>2020-08-01 00:00:00</td>\n",
       "      <td>2020-09-01 00:00:00</td>\n",
       "      <td>2020-10-01 00:00:00</td>\n",
       "      <td>2020-11-01 00:00:00</td>\n",
       "      <td>2020-12-01 00:00:00</td>\n",
       "      <td>2021-01-01 00:00:00</td>\n",
       "      <td>2021-02-01 00:00:00</td>\n",
       "      <td>2021-03-01 00:00:00</td>\n",
       "      <td>2021-04-01 00:00:00</td>\n",
       "      <td>2021-05-01 00:00:00</td>\n",
       "    </tr>\n",
       "    <tr>\n",
       "      <th>1</th>\n",
       "      <td>City of London</td>\n",
       "      <td>E09000001</td>\n",
       "      <td>91448.98487</td>\n",
       "      <td>82202.77314</td>\n",
       "      <td>79120.70256</td>\n",
       "      <td>77101.20804</td>\n",
       "      <td>84409.14932</td>\n",
       "      <td>94900.51244</td>\n",
       "      <td>110128.0423</td>\n",
       "      <td>112329.4376</td>\n",
       "      <td>...</td>\n",
       "      <td>827658.5167</td>\n",
       "      <td>798499.1646</td>\n",
       "      <td>836807.0518</td>\n",
       "      <td>769391.7847</td>\n",
       "      <td>801999.0466</td>\n",
       "      <td>760599.2322</td>\n",
       "      <td>729315.7243</td>\n",
       "      <td>717528.2633</td>\n",
       "      <td>713094.5391</td>\n",
       "      <td>765822.2726</td>\n",
       "    </tr>\n",
       "    <tr>\n",
       "      <th>2</th>\n",
       "      <td>Barking &amp; Dagenham</td>\n",
       "      <td>E09000002</td>\n",
       "      <td>50460.2266</td>\n",
       "      <td>51085.77983</td>\n",
       "      <td>51268.96956</td>\n",
       "      <td>53133.50526</td>\n",
       "      <td>53042.24852</td>\n",
       "      <td>53700.34831</td>\n",
       "      <td>52113.12157</td>\n",
       "      <td>52232.19868</td>\n",
       "      <td>...</td>\n",
       "      <td>304923.5027</td>\n",
       "      <td>301702.4656</td>\n",
       "      <td>304852.1338</td>\n",
       "      <td>305012.3291</td>\n",
       "      <td>309560.1023</td>\n",
       "      <td>311007.1517</td>\n",
       "      <td>313835.8023</td>\n",
       "      <td>314187.4036</td>\n",
       "      <td>309680.5549</td>\n",
       "      <td>308760.1446</td>\n",
       "    </tr>\n",
       "    <tr>\n",
       "      <th>3</th>\n",
       "      <td>Barnet</td>\n",
       "      <td>E09000003</td>\n",
       "      <td>93284.51832</td>\n",
       "      <td>93190.16963</td>\n",
       "      <td>92247.52435</td>\n",
       "      <td>90762.87492</td>\n",
       "      <td>90258.00033</td>\n",
       "      <td>90107.23471</td>\n",
       "      <td>91441.24768</td>\n",
       "      <td>92361.31512</td>\n",
       "      <td>...</td>\n",
       "      <td>529660.1524</td>\n",
       "      <td>533619.23</td>\n",
       "      <td>530353.5205</td>\n",
       "      <td>528816.4928</td>\n",
       "      <td>532528.0926</td>\n",
       "      <td>538842.4015</td>\n",
       "      <td>538215.8867</td>\n",
       "      <td>542872.3895</td>\n",
       "      <td>545746.3543</td>\n",
       "      <td>546082.2634</td>\n",
       "    </tr>\n",
       "    <tr>\n",
       "      <th>4</th>\n",
       "      <td>Bexley</td>\n",
       "      <td>E09000004</td>\n",
       "      <td>64958.09036</td>\n",
       "      <td>64787.92069</td>\n",
       "      <td>64367.49344</td>\n",
       "      <td>64277.66881</td>\n",
       "      <td>63997.13588</td>\n",
       "      <td>64252.32335</td>\n",
       "      <td>63722.70055</td>\n",
       "      <td>64432.60005</td>\n",
       "      <td>...</td>\n",
       "      <td>346679.9244</td>\n",
       "      <td>345061.4945</td>\n",
       "      <td>345404.9836</td>\n",
       "      <td>346252.9145</td>\n",
       "      <td>352260.8385</td>\n",
       "      <td>356664.073</td>\n",
       "      <td>360116.1134</td>\n",
       "      <td>364480.9055</td>\n",
       "      <td>365519.4195</td>\n",
       "      <td>368554.8059</td>\n",
       "    </tr>\n",
       "  </tbody>\n",
       "</table>\n",
       "<p>5 rows × 319 columns</p>\n",
       "</div>"
      ],
      "text/plain": [
       "                index        NaN  1995-01-01 00:00:00  1995-02-01 00:00:00  \\\n",
       "0          Unnamed: 0        NaT  1995-01-01 00:00:00  1995-02-01 00:00:00   \n",
       "1      City of London  E09000001          91448.98487          82202.77314   \n",
       "2  Barking & Dagenham  E09000002           50460.2266          51085.77983   \n",
       "3              Barnet  E09000003          93284.51832          93190.16963   \n",
       "4              Bexley  E09000004          64958.09036          64787.92069   \n",
       "\n",
       "   1995-03-01 00:00:00  1995-04-01 00:00:00  1995-05-01 00:00:00  \\\n",
       "0  1995-03-01 00:00:00  1995-04-01 00:00:00  1995-05-01 00:00:00   \n",
       "1          79120.70256          77101.20804          84409.14932   \n",
       "2          51268.96956          53133.50526          53042.24852   \n",
       "3          92247.52435          90762.87492          90258.00033   \n",
       "4          64367.49344          64277.66881          63997.13588   \n",
       "\n",
       "   1995-06-01 00:00:00  1995-07-01 00:00:00  1995-08-01 00:00:00  ...  \\\n",
       "0  1995-06-01 00:00:00  1995-07-01 00:00:00  1995-08-01 00:00:00  ...   \n",
       "1          94900.51244          110128.0423          112329.4376  ...   \n",
       "2          53700.34831          52113.12157          52232.19868  ...   \n",
       "3          90107.23471          91441.24768          92361.31512  ...   \n",
       "4          64252.32335          63722.70055          64432.60005  ...   \n",
       "\n",
       "   2020-08-01 00:00:00  2020-09-01 00:00:00  2020-10-01 00:00:00  \\\n",
       "0  2020-08-01 00:00:00  2020-09-01 00:00:00  2020-10-01 00:00:00   \n",
       "1          827658.5167          798499.1646          836807.0518   \n",
       "2          304923.5027          301702.4656          304852.1338   \n",
       "3          529660.1524            533619.23          530353.5205   \n",
       "4          346679.9244          345061.4945          345404.9836   \n",
       "\n",
       "   2020-11-01 00:00:00  2020-12-01 00:00:00  2021-01-01 00:00:00  \\\n",
       "0  2020-11-01 00:00:00  2020-12-01 00:00:00  2021-01-01 00:00:00   \n",
       "1          769391.7847          801999.0466          760599.2322   \n",
       "2          305012.3291          309560.1023          311007.1517   \n",
       "3          528816.4928          532528.0926          538842.4015   \n",
       "4          346252.9145          352260.8385           356664.073   \n",
       "\n",
       "   2021-02-01 00:00:00  2021-03-01 00:00:00  2021-04-01 00:00:00  \\\n",
       "0  2021-02-01 00:00:00  2021-03-01 00:00:00  2021-04-01 00:00:00   \n",
       "1          729315.7243          717528.2633          713094.5391   \n",
       "2          313835.8023          314187.4036          309680.5549   \n",
       "3          538215.8867          542872.3895          545746.3543   \n",
       "4          360116.1134          364480.9055          365519.4195   \n",
       "\n",
       "   2021-05-01 00:00:00  \n",
       "0  2021-05-01 00:00:00  \n",
       "1          765822.2726  \n",
       "2          308760.1446  \n",
       "3          546082.2634  \n",
       "4          368554.8059  \n",
       "\n",
       "[5 rows x 319 columns]"
      ]
     },
     "execution_count": 11,
     "metadata": {},
     "output_type": "execute_result"
    }
   ],
   "source": [
    "# we have to reset de index \n",
    "properties_id = properties.reset_index()\n",
    "properties_id.head(5)"
   ]
  },
  {
   "cell_type": "code",
   "execution_count": 12,
   "metadata": {
    "scrolled": false
   },
   "outputs": [
    {
     "data": {
      "text/html": [
       "<div>\n",
       "<style scoped>\n",
       "    .dataframe tbody tr th:only-of-type {\n",
       "        vertical-align: middle;\n",
       "    }\n",
       "\n",
       "    .dataframe tbody tr th {\n",
       "        vertical-align: top;\n",
       "    }\n",
       "\n",
       "    .dataframe thead th {\n",
       "        text-align: right;\n",
       "    }\n",
       "</style>\n",
       "<table border=\"1\" class=\"dataframe\">\n",
       "  <thead>\n",
       "    <tr style=\"text-align: right;\">\n",
       "      <th></th>\n",
       "      <th>index</th>\n",
       "      <th>NaN</th>\n",
       "      <th>1995-01-01 00:00:00</th>\n",
       "      <th>1995-02-01 00:00:00</th>\n",
       "      <th>1995-03-01 00:00:00</th>\n",
       "      <th>1995-04-01 00:00:00</th>\n",
       "      <th>1995-05-01 00:00:00</th>\n",
       "      <th>1995-06-01 00:00:00</th>\n",
       "      <th>1995-07-01 00:00:00</th>\n",
       "      <th>1995-08-01 00:00:00</th>\n",
       "      <th>...</th>\n",
       "      <th>2020-08-01 00:00:00</th>\n",
       "      <th>2020-09-01 00:00:00</th>\n",
       "      <th>2020-10-01 00:00:00</th>\n",
       "      <th>2020-11-01 00:00:00</th>\n",
       "      <th>2020-12-01 00:00:00</th>\n",
       "      <th>2021-01-01 00:00:00</th>\n",
       "      <th>2021-02-01 00:00:00</th>\n",
       "      <th>2021-03-01 00:00:00</th>\n",
       "      <th>2021-04-01 00:00:00</th>\n",
       "      <th>2021-05-01 00:00:00</th>\n",
       "    </tr>\n",
       "  </thead>\n",
       "  <tbody>\n",
       "    <tr>\n",
       "      <th>0</th>\n",
       "      <td>City of London</td>\n",
       "      <td>E09000001</td>\n",
       "      <td>91448.98487</td>\n",
       "      <td>82202.77314</td>\n",
       "      <td>79120.70256</td>\n",
       "      <td>77101.20804</td>\n",
       "      <td>84409.14932</td>\n",
       "      <td>94900.51244</td>\n",
       "      <td>110128.0423</td>\n",
       "      <td>112329.4376</td>\n",
       "      <td>...</td>\n",
       "      <td>827658.5167</td>\n",
       "      <td>798499.1646</td>\n",
       "      <td>836807.0518</td>\n",
       "      <td>769391.7847</td>\n",
       "      <td>801999.0466</td>\n",
       "      <td>760599.2322</td>\n",
       "      <td>729315.7243</td>\n",
       "      <td>717528.2633</td>\n",
       "      <td>713094.5391</td>\n",
       "      <td>765822.2726</td>\n",
       "    </tr>\n",
       "    <tr>\n",
       "      <th>1</th>\n",
       "      <td>Barking &amp; Dagenham</td>\n",
       "      <td>E09000002</td>\n",
       "      <td>50460.2266</td>\n",
       "      <td>51085.77983</td>\n",
       "      <td>51268.96956</td>\n",
       "      <td>53133.50526</td>\n",
       "      <td>53042.24852</td>\n",
       "      <td>53700.34831</td>\n",
       "      <td>52113.12157</td>\n",
       "      <td>52232.19868</td>\n",
       "      <td>...</td>\n",
       "      <td>304923.5027</td>\n",
       "      <td>301702.4656</td>\n",
       "      <td>304852.1338</td>\n",
       "      <td>305012.3291</td>\n",
       "      <td>309560.1023</td>\n",
       "      <td>311007.1517</td>\n",
       "      <td>313835.8023</td>\n",
       "      <td>314187.4036</td>\n",
       "      <td>309680.5549</td>\n",
       "      <td>308760.1446</td>\n",
       "    </tr>\n",
       "    <tr>\n",
       "      <th>2</th>\n",
       "      <td>Barnet</td>\n",
       "      <td>E09000003</td>\n",
       "      <td>93284.51832</td>\n",
       "      <td>93190.16963</td>\n",
       "      <td>92247.52435</td>\n",
       "      <td>90762.87492</td>\n",
       "      <td>90258.00033</td>\n",
       "      <td>90107.23471</td>\n",
       "      <td>91441.24768</td>\n",
       "      <td>92361.31512</td>\n",
       "      <td>...</td>\n",
       "      <td>529660.1524</td>\n",
       "      <td>533619.23</td>\n",
       "      <td>530353.5205</td>\n",
       "      <td>528816.4928</td>\n",
       "      <td>532528.0926</td>\n",
       "      <td>538842.4015</td>\n",
       "      <td>538215.8867</td>\n",
       "      <td>542872.3895</td>\n",
       "      <td>545746.3543</td>\n",
       "      <td>546082.2634</td>\n",
       "    </tr>\n",
       "    <tr>\n",
       "      <th>3</th>\n",
       "      <td>Bexley</td>\n",
       "      <td>E09000004</td>\n",
       "      <td>64958.09036</td>\n",
       "      <td>64787.92069</td>\n",
       "      <td>64367.49344</td>\n",
       "      <td>64277.66881</td>\n",
       "      <td>63997.13588</td>\n",
       "      <td>64252.32335</td>\n",
       "      <td>63722.70055</td>\n",
       "      <td>64432.60005</td>\n",
       "      <td>...</td>\n",
       "      <td>346679.9244</td>\n",
       "      <td>345061.4945</td>\n",
       "      <td>345404.9836</td>\n",
       "      <td>346252.9145</td>\n",
       "      <td>352260.8385</td>\n",
       "      <td>356664.073</td>\n",
       "      <td>360116.1134</td>\n",
       "      <td>364480.9055</td>\n",
       "      <td>365519.4195</td>\n",
       "      <td>368554.8059</td>\n",
       "    </tr>\n",
       "    <tr>\n",
       "      <th>4</th>\n",
       "      <td>Brent</td>\n",
       "      <td>E09000005</td>\n",
       "      <td>71306.56698</td>\n",
       "      <td>72022.26197</td>\n",
       "      <td>72015.76274</td>\n",
       "      <td>72965.63094</td>\n",
       "      <td>73704.04743</td>\n",
       "      <td>74310.48167</td>\n",
       "      <td>74127.03788</td>\n",
       "      <td>73547.0411</td>\n",
       "      <td>...</td>\n",
       "      <td>497729.0327</td>\n",
       "      <td>519561.8277</td>\n",
       "      <td>522239.3216</td>\n",
       "      <td>513100.814</td>\n",
       "      <td>495066.6459</td>\n",
       "      <td>511347.8856</td>\n",
       "      <td>514388.7387</td>\n",
       "      <td>519212.9441</td>\n",
       "      <td>498083.9417</td>\n",
       "      <td>508570.7598</td>\n",
       "    </tr>\n",
       "  </tbody>\n",
       "</table>\n",
       "<p>5 rows × 319 columns</p>\n",
       "</div>"
      ],
      "text/plain": [
       "                index        NaN 1995-01-01 00:00:00 1995-02-01 00:00:00  \\\n",
       "0      City of London  E09000001         91448.98487         82202.77314   \n",
       "1  Barking & Dagenham  E09000002          50460.2266         51085.77983   \n",
       "2              Barnet  E09000003         93284.51832         93190.16963   \n",
       "3              Bexley  E09000004         64958.09036         64787.92069   \n",
       "4               Brent  E09000005         71306.56698         72022.26197   \n",
       "\n",
       "  1995-03-01 00:00:00 1995-04-01 00:00:00 1995-05-01 00:00:00  \\\n",
       "0         79120.70256         77101.20804         84409.14932   \n",
       "1         51268.96956         53133.50526         53042.24852   \n",
       "2         92247.52435         90762.87492         90258.00033   \n",
       "3         64367.49344         64277.66881         63997.13588   \n",
       "4         72015.76274         72965.63094         73704.04743   \n",
       "\n",
       "  1995-06-01 00:00:00 1995-07-01 00:00:00 1995-08-01 00:00:00  ...  \\\n",
       "0         94900.51244         110128.0423         112329.4376  ...   \n",
       "1         53700.34831         52113.12157         52232.19868  ...   \n",
       "2         90107.23471         91441.24768         92361.31512  ...   \n",
       "3         64252.32335         63722.70055         64432.60005  ...   \n",
       "4         74310.48167         74127.03788          73547.0411  ...   \n",
       "\n",
       "  2020-08-01 00:00:00 2020-09-01 00:00:00 2020-10-01 00:00:00  \\\n",
       "0         827658.5167         798499.1646         836807.0518   \n",
       "1         304923.5027         301702.4656         304852.1338   \n",
       "2         529660.1524           533619.23         530353.5205   \n",
       "3         346679.9244         345061.4945         345404.9836   \n",
       "4         497729.0327         519561.8277         522239.3216   \n",
       "\n",
       "  2020-11-01 00:00:00 2020-12-01 00:00:00 2021-01-01 00:00:00  \\\n",
       "0         769391.7847         801999.0466         760599.2322   \n",
       "1         305012.3291         309560.1023         311007.1517   \n",
       "2         528816.4928         532528.0926         538842.4015   \n",
       "3         346252.9145         352260.8385          356664.073   \n",
       "4          513100.814         495066.6459         511347.8856   \n",
       "\n",
       "  2021-02-01 00:00:00 2021-03-01 00:00:00 2021-04-01 00:00:00  \\\n",
       "0         729315.7243         717528.2633         713094.5391   \n",
       "1         313835.8023         314187.4036         309680.5549   \n",
       "2         538215.8867         542872.3895         545746.3543   \n",
       "3         360116.1134         364480.9055         365519.4195   \n",
       "4         514388.7387         519212.9441         498083.9417   \n",
       "\n",
       "  2021-05-01 00:00:00  \n",
       "0         765822.2726  \n",
       "1         308760.1446  \n",
       "2         546082.2634  \n",
       "3         368554.8059  \n",
       "4         508570.7598  \n",
       "\n",
       "[5 rows x 319 columns]"
      ]
     },
     "execution_count": 12,
     "metadata": {},
     "output_type": "execute_result"
    }
   ],
   "source": [
    "properties_id = properties_id.drop(0, axis = 0)\n",
    "properties_id.reset_index(drop = True).head()"
   ]
  },
  {
   "cell_type": "code",
   "execution_count": 13,
   "metadata": {
    "scrolled": true
   },
   "outputs": [
    {
     "data": {
      "text/plain": [
       "Index([            'index',                 NaT, 1995-01-01 00:00:00,\n",
       "       1995-02-01 00:00:00, 1995-03-01 00:00:00, 1995-04-01 00:00:00,\n",
       "       1995-05-01 00:00:00, 1995-06-01 00:00:00, 1995-07-01 00:00:00,\n",
       "       1995-08-01 00:00:00,\n",
       "       ...\n",
       "       2020-08-01 00:00:00, 2020-09-01 00:00:00, 2020-10-01 00:00:00,\n",
       "       2020-11-01 00:00:00, 2020-12-01 00:00:00, 2021-01-01 00:00:00,\n",
       "       2021-02-01 00:00:00, 2021-03-01 00:00:00, 2021-04-01 00:00:00,\n",
       "       2021-05-01 00:00:00],\n",
       "      dtype='object', length=319)"
      ]
     },
     "execution_count": 13,
     "metadata": {},
     "output_type": "execute_result"
    }
   ],
   "source": [
    "properties_id.columns"
   ]
  },
  {
   "cell_type": "markdown",
   "metadata": {
    "colab_type": "text",
    "id": "o1uLbJAsoIjK"
   },
   "source": [
    "**2.3. Cleaning the data (part 2)**\n",
    "\n",
    "You might we have to **rename** a couple columns. How do you do this? The clue's pretty bold..."
   ]
  },
  {
   "cell_type": "code",
   "execution_count": 14,
   "metadata": {
    "colab": {},
    "colab_type": "code",
    "id": "GKkmn1AnoVZS"
   },
   "outputs": [],
   "source": [
    "properties_id = properties_id.rename({'index':'london_borough', pd.NaT :'ID'}, axis = 1)"
   ]
  },
  {
   "cell_type": "code",
   "execution_count": 15,
   "metadata": {},
   "outputs": [
    {
     "data": {
      "text/html": [
       "<div>\n",
       "<style scoped>\n",
       "    .dataframe tbody tr th:only-of-type {\n",
       "        vertical-align: middle;\n",
       "    }\n",
       "\n",
       "    .dataframe tbody tr th {\n",
       "        vertical-align: top;\n",
       "    }\n",
       "\n",
       "    .dataframe thead th {\n",
       "        text-align: right;\n",
       "    }\n",
       "</style>\n",
       "<table border=\"1\" class=\"dataframe\">\n",
       "  <thead>\n",
       "    <tr style=\"text-align: right;\">\n",
       "      <th></th>\n",
       "      <th>london_borough</th>\n",
       "      <th>ID</th>\n",
       "      <th>1995-01-01 00:00:00</th>\n",
       "      <th>1995-02-01 00:00:00</th>\n",
       "      <th>1995-03-01 00:00:00</th>\n",
       "      <th>1995-04-01 00:00:00</th>\n",
       "      <th>1995-05-01 00:00:00</th>\n",
       "      <th>1995-06-01 00:00:00</th>\n",
       "      <th>1995-07-01 00:00:00</th>\n",
       "      <th>1995-08-01 00:00:00</th>\n",
       "      <th>...</th>\n",
       "      <th>2020-08-01 00:00:00</th>\n",
       "      <th>2020-09-01 00:00:00</th>\n",
       "      <th>2020-10-01 00:00:00</th>\n",
       "      <th>2020-11-01 00:00:00</th>\n",
       "      <th>2020-12-01 00:00:00</th>\n",
       "      <th>2021-01-01 00:00:00</th>\n",
       "      <th>2021-02-01 00:00:00</th>\n",
       "      <th>2021-03-01 00:00:00</th>\n",
       "      <th>2021-04-01 00:00:00</th>\n",
       "      <th>2021-05-01 00:00:00</th>\n",
       "    </tr>\n",
       "  </thead>\n",
       "  <tbody>\n",
       "    <tr>\n",
       "      <th>1</th>\n",
       "      <td>City of London</td>\n",
       "      <td>E09000001</td>\n",
       "      <td>91448.98487</td>\n",
       "      <td>82202.77314</td>\n",
       "      <td>79120.70256</td>\n",
       "      <td>77101.20804</td>\n",
       "      <td>84409.14932</td>\n",
       "      <td>94900.51244</td>\n",
       "      <td>110128.0423</td>\n",
       "      <td>112329.4376</td>\n",
       "      <td>...</td>\n",
       "      <td>827658.5167</td>\n",
       "      <td>798499.1646</td>\n",
       "      <td>836807.0518</td>\n",
       "      <td>769391.7847</td>\n",
       "      <td>801999.0466</td>\n",
       "      <td>760599.2322</td>\n",
       "      <td>729315.7243</td>\n",
       "      <td>717528.2633</td>\n",
       "      <td>713094.5391</td>\n",
       "      <td>765822.2726</td>\n",
       "    </tr>\n",
       "    <tr>\n",
       "      <th>2</th>\n",
       "      <td>Barking &amp; Dagenham</td>\n",
       "      <td>E09000002</td>\n",
       "      <td>50460.2266</td>\n",
       "      <td>51085.77983</td>\n",
       "      <td>51268.96956</td>\n",
       "      <td>53133.50526</td>\n",
       "      <td>53042.24852</td>\n",
       "      <td>53700.34831</td>\n",
       "      <td>52113.12157</td>\n",
       "      <td>52232.19868</td>\n",
       "      <td>...</td>\n",
       "      <td>304923.5027</td>\n",
       "      <td>301702.4656</td>\n",
       "      <td>304852.1338</td>\n",
       "      <td>305012.3291</td>\n",
       "      <td>309560.1023</td>\n",
       "      <td>311007.1517</td>\n",
       "      <td>313835.8023</td>\n",
       "      <td>314187.4036</td>\n",
       "      <td>309680.5549</td>\n",
       "      <td>308760.1446</td>\n",
       "    </tr>\n",
       "  </tbody>\n",
       "</table>\n",
       "<p>2 rows × 319 columns</p>\n",
       "</div>"
      ],
      "text/plain": [
       "       london_borough         ID 1995-01-01 00:00:00 1995-02-01 00:00:00  \\\n",
       "1      City of London  E09000001         91448.98487         82202.77314   \n",
       "2  Barking & Dagenham  E09000002          50460.2266         51085.77983   \n",
       "\n",
       "  1995-03-01 00:00:00 1995-04-01 00:00:00 1995-05-01 00:00:00  \\\n",
       "1         79120.70256         77101.20804         84409.14932   \n",
       "2         51268.96956         53133.50526         53042.24852   \n",
       "\n",
       "  1995-06-01 00:00:00 1995-07-01 00:00:00 1995-08-01 00:00:00  ...  \\\n",
       "1         94900.51244         110128.0423         112329.4376  ...   \n",
       "2         53700.34831         52113.12157         52232.19868  ...   \n",
       "\n",
       "  2020-08-01 00:00:00 2020-09-01 00:00:00 2020-10-01 00:00:00  \\\n",
       "1         827658.5167         798499.1646         836807.0518   \n",
       "2         304923.5027         301702.4656         304852.1338   \n",
       "\n",
       "  2020-11-01 00:00:00 2020-12-01 00:00:00 2021-01-01 00:00:00  \\\n",
       "1         769391.7847         801999.0466         760599.2322   \n",
       "2         305012.3291         309560.1023         311007.1517   \n",
       "\n",
       "  2021-02-01 00:00:00 2021-03-01 00:00:00 2021-04-01 00:00:00  \\\n",
       "1         729315.7243         717528.2633         713094.5391   \n",
       "2         313835.8023         314187.4036         309680.5549   \n",
       "\n",
       "  2021-05-01 00:00:00  \n",
       "1         765822.2726  \n",
       "2         308760.1446  \n",
       "\n",
       "[2 rows x 319 columns]"
      ]
     },
     "execution_count": 15,
     "metadata": {},
     "output_type": "execute_result"
    }
   ],
   "source": [
    "properties_id.head(2)"
   ]
  },
  {
   "cell_type": "markdown",
   "metadata": {
    "colab_type": "text",
    "id": "jy8BzXHmoWEw"
   },
   "source": [
    "**2.4.Transforming the data**\n",
    "\n",
    "Remember what Wes McKinney said about tidy data? \n",
    "\n",
    "You might need to **melt** your DataFrame here. "
   ]
  },
  {
   "cell_type": "code",
   "execution_count": 16,
   "metadata": {
    "colab": {},
    "colab_type": "code",
    "id": "S2wM0qLuo2Zt"
   },
   "outputs": [
    {
     "data": {
      "text/html": [
       "<div>\n",
       "<style scoped>\n",
       "    .dataframe tbody tr th:only-of-type {\n",
       "        vertical-align: middle;\n",
       "    }\n",
       "\n",
       "    .dataframe tbody tr th {\n",
       "        vertical-align: top;\n",
       "    }\n",
       "\n",
       "    .dataframe thead th {\n",
       "        text-align: right;\n",
       "    }\n",
       "</style>\n",
       "<table border=\"1\" class=\"dataframe\">\n",
       "  <thead>\n",
       "    <tr style=\"text-align: right;\">\n",
       "      <th></th>\n",
       "      <th>london_borough</th>\n",
       "      <th>ID</th>\n",
       "      <th>date</th>\n",
       "      <th>average_price</th>\n",
       "    </tr>\n",
       "  </thead>\n",
       "  <tbody>\n",
       "    <tr>\n",
       "      <th>0</th>\n",
       "      <td>City of London</td>\n",
       "      <td>E09000001</td>\n",
       "      <td>1995-01-01</td>\n",
       "      <td>91448.98487</td>\n",
       "    </tr>\n",
       "    <tr>\n",
       "      <th>1</th>\n",
       "      <td>Barking &amp; Dagenham</td>\n",
       "      <td>E09000002</td>\n",
       "      <td>1995-01-01</td>\n",
       "      <td>50460.2266</td>\n",
       "    </tr>\n",
       "    <tr>\n",
       "      <th>2</th>\n",
       "      <td>Barnet</td>\n",
       "      <td>E09000003</td>\n",
       "      <td>1995-01-01</td>\n",
       "      <td>93284.51832</td>\n",
       "    </tr>\n",
       "  </tbody>\n",
       "</table>\n",
       "</div>"
      ],
      "text/plain": [
       "       london_borough         ID       date average_price\n",
       "0      City of London  E09000001 1995-01-01   91448.98487\n",
       "1  Barking & Dagenham  E09000002 1995-01-01    50460.2266\n",
       "2              Barnet  E09000003 1995-01-01   93284.51832"
      ]
     },
     "execution_count": 16,
     "metadata": {},
     "output_type": "execute_result"
    }
   ],
   "source": [
    "properties_melt = properties_id.melt(id_vars = ['london_borough', 'ID'], var_name = 'date', value_name = 'average_price')\n",
    "properties_melt.head(3)"
   ]
  },
  {
   "cell_type": "code",
   "execution_count": 17,
   "metadata": {},
   "outputs": [
    {
     "data": {
      "text/plain": [
       "london_borough            object\n",
       "ID                        object\n",
       "date              datetime64[ns]\n",
       "average_price             object\n",
       "dtype: object"
      ]
     },
     "execution_count": 17,
     "metadata": {},
     "output_type": "execute_result"
    }
   ],
   "source": [
    "properties_melt.dtypes"
   ]
  },
  {
   "cell_type": "code",
   "execution_count": 18,
   "metadata": {},
   "outputs": [
    {
     "data": {
      "text/plain": [
       "london_borough    False\n",
       "ID                 True\n",
       "date              False\n",
       "average_price      True\n",
       "dtype: bool"
      ]
     },
     "execution_count": 18,
     "metadata": {},
     "output_type": "execute_result"
    }
   ],
   "source": [
    "properties_melt.isna().any()"
   ]
  },
  {
   "cell_type": "code",
   "execution_count": 19,
   "metadata": {},
   "outputs": [
    {
     "data": {
      "text/plain": [
       "london_borough    15216\n",
       "ID                15216\n",
       "date              15216\n",
       "average_price     15216\n",
       "dtype: int64"
      ]
     },
     "execution_count": 19,
     "metadata": {},
     "output_type": "execute_result"
    }
   ],
   "source": [
    "properties_melt.isnull().count()"
   ]
  },
  {
   "cell_type": "markdown",
   "metadata": {
    "colab_type": "text",
    "id": "7kIsgAo7o3mf"
   },
   "source": [
    "Remember to make sure your column data types are all correct. Average prices, for example, should be floating point numbers... "
   ]
  },
  {
   "cell_type": "code",
   "execution_count": 20,
   "metadata": {
    "colab": {},
    "colab_type": "code",
    "id": "ZcR4IHbcpOaq"
   },
   "outputs": [
    {
     "data": {
      "text/plain": [
       "951"
      ]
     },
     "execution_count": 20,
     "metadata": {},
     "output_type": "execute_result"
    }
   ],
   "source": [
    "properties_melt['average_price'].isna().sum()"
   ]
  },
  {
   "cell_type": "code",
   "execution_count": 21,
   "metadata": {},
   "outputs": [],
   "source": [
    "properties_melt['average_price'] = pd.to_numeric(properties_melt['average_price'])"
   ]
  },
  {
   "cell_type": "code",
   "execution_count": 22,
   "metadata": {},
   "outputs": [
    {
     "data": {
      "text/plain": [
       "london_borough            object\n",
       "ID                        object\n",
       "date              datetime64[ns]\n",
       "average_price            float64\n",
       "dtype: object"
      ]
     },
     "execution_count": 22,
     "metadata": {},
     "output_type": "execute_result"
    }
   ],
   "source": [
    "properties_melt.dtypes"
   ]
  },
  {
   "cell_type": "markdown",
   "metadata": {
    "colab_type": "text",
    "id": "knLUXHLypOtw"
   },
   "source": [
    "**2.5. Cleaning the data (part 3)**\n",
    "\n",
    "Do we have an equal number of observations in the ID, Average Price, Month, and London Borough columns? Remember that there are only 32 London Boroughs. How many entries do you have in that column? \n",
    "\n",
    "Check out the contents of the London Borough column, and if you find null values, get rid of them however you see fit. "
   ]
  },
  {
   "cell_type": "code",
   "execution_count": 23,
   "metadata": {
    "colab": {},
    "colab_type": "code",
    "id": "BnvTW5a3p0fC"
   },
   "outputs": [
    {
     "data": {
      "text/plain": [
       "array(['City of London', 'Barking & Dagenham', 'Barnet', 'Bexley',\n",
       "       'Brent', 'Bromley', 'Camden', 'Croydon', 'Ealing', 'Enfield',\n",
       "       'Greenwich', 'Hackney', 'Hammersmith & Fulham', 'Haringey',\n",
       "       'Harrow', 'Havering', 'Hillingdon', 'Hounslow', 'Islington',\n",
       "       'Kensington & Chelsea', 'Kingston upon Thames', 'Lambeth',\n",
       "       'Lewisham', 'Merton', 'Newham', 'Redbridge',\n",
       "       'Richmond upon Thames', 'Southwark', 'Sutton', 'Tower Hamlets',\n",
       "       'Waltham Forest', 'Wandsworth', 'Westminster', 'Unnamed: 34',\n",
       "       'Inner London', 'Outer London', 'Unnamed: 37', 'NORTH EAST',\n",
       "       'NORTH WEST', 'YORKS & THE HUMBER', 'EAST MIDLANDS',\n",
       "       'WEST MIDLANDS', 'EAST OF ENGLAND', 'LONDON', 'SOUTH EAST',\n",
       "       'SOUTH WEST', 'Unnamed: 47', 'England'], dtype=object)"
      ]
     },
     "execution_count": 23,
     "metadata": {},
     "output_type": "execute_result"
    }
   ],
   "source": [
    "properties_melt['london_borough'].unique()"
   ]
  },
  {
   "cell_type": "code",
   "execution_count": 24,
   "metadata": {},
   "outputs": [
    {
     "data": {
      "text/plain": [
       "london_borough    False\n",
       "ID                 True\n",
       "date              False\n",
       "average_price      True\n",
       "dtype: bool"
      ]
     },
     "execution_count": 24,
     "metadata": {},
     "output_type": "execute_result"
    }
   ],
   "source": [
    "# there is missing value in ID ans Average_price columns\n",
    "properties_melt.isna().any()"
   ]
  },
  {
   "cell_type": "code",
   "execution_count": 25,
   "metadata": {},
   "outputs": [
    {
     "data": {
      "text/html": [
       "<div>\n",
       "<style scoped>\n",
       "    .dataframe tbody tr th:only-of-type {\n",
       "        vertical-align: middle;\n",
       "    }\n",
       "\n",
       "    .dataframe tbody tr th {\n",
       "        vertical-align: top;\n",
       "    }\n",
       "\n",
       "    .dataframe thead th {\n",
       "        text-align: right;\n",
       "    }\n",
       "</style>\n",
       "<table border=\"1\" class=\"dataframe\">\n",
       "  <thead>\n",
       "    <tr style=\"text-align: right;\">\n",
       "      <th></th>\n",
       "      <th>london_borough</th>\n",
       "      <th>ID</th>\n",
       "      <th>date</th>\n",
       "      <th>average_price</th>\n",
       "    </tr>\n",
       "  </thead>\n",
       "  <tbody>\n",
       "    <tr>\n",
       "      <th>36</th>\n",
       "      <td>Unnamed: 37</td>\n",
       "      <td>NaN</td>\n",
       "      <td>1995-01-01</td>\n",
       "      <td>NaN</td>\n",
       "    </tr>\n",
       "    <tr>\n",
       "      <th>84</th>\n",
       "      <td>Unnamed: 37</td>\n",
       "      <td>NaN</td>\n",
       "      <td>1995-02-01</td>\n",
       "      <td>NaN</td>\n",
       "    </tr>\n",
       "  </tbody>\n",
       "</table>\n",
       "</div>"
      ],
      "text/plain": [
       "   london_borough   ID       date  average_price\n",
       "36    Unnamed: 37  NaN 1995-01-01            NaN\n",
       "84    Unnamed: 37  NaN 1995-02-01            NaN"
      ]
     },
     "execution_count": 25,
     "metadata": {},
     "output_type": "execute_result"
    }
   ],
   "source": [
    "properties_melt[properties_melt[\"london_borough\"] == \"Unnamed: 37\"].head(2)"
   ]
  },
  {
   "cell_type": "code",
   "execution_count": 26,
   "metadata": {},
   "outputs": [
    {
     "data": {
      "text/html": [
       "<div>\n",
       "<style scoped>\n",
       "    .dataframe tbody tr th:only-of-type {\n",
       "        vertical-align: middle;\n",
       "    }\n",
       "\n",
       "    .dataframe tbody tr th {\n",
       "        vertical-align: top;\n",
       "    }\n",
       "\n",
       "    .dataframe thead th {\n",
       "        text-align: right;\n",
       "    }\n",
       "</style>\n",
       "<table border=\"1\" class=\"dataframe\">\n",
       "  <thead>\n",
       "    <tr style=\"text-align: right;\">\n",
       "      <th></th>\n",
       "      <th>london_borough</th>\n",
       "      <th>ID</th>\n",
       "      <th>date</th>\n",
       "      <th>average_price</th>\n",
       "    </tr>\n",
       "  </thead>\n",
       "  <tbody>\n",
       "    <tr>\n",
       "      <th>0</th>\n",
       "      <td>City of London</td>\n",
       "      <td>E09000001</td>\n",
       "      <td>1995-01-01</td>\n",
       "      <td>91448.98487</td>\n",
       "    </tr>\n",
       "    <tr>\n",
       "      <th>48</th>\n",
       "      <td>City of London</td>\n",
       "      <td>E09000001</td>\n",
       "      <td>1995-02-01</td>\n",
       "      <td>82202.77314</td>\n",
       "    </tr>\n",
       "  </tbody>\n",
       "</table>\n",
       "</div>"
      ],
      "text/plain": [
       "    london_borough         ID       date  average_price\n",
       "0   City of London  E09000001 1995-01-01    91448.98487\n",
       "48  City of London  E09000001 1995-02-01    82202.77314"
      ]
     },
     "execution_count": 26,
     "metadata": {},
     "output_type": "execute_result"
    }
   ],
   "source": [
    "properties_melt[properties_melt[\"london_borough\"] == \"City of London\"].head(2)"
   ]
  },
  {
   "cell_type": "code",
   "execution_count": 27,
   "metadata": {},
   "outputs": [
    {
     "data": {
      "text/html": [
       "<div>\n",
       "<style scoped>\n",
       "    .dataframe tbody tr th:only-of-type {\n",
       "        vertical-align: middle;\n",
       "    }\n",
       "\n",
       "    .dataframe tbody tr th {\n",
       "        vertical-align: top;\n",
       "    }\n",
       "\n",
       "    .dataframe thead th {\n",
       "        text-align: right;\n",
       "    }\n",
       "</style>\n",
       "<table border=\"1\" class=\"dataframe\">\n",
       "  <thead>\n",
       "    <tr style=\"text-align: right;\">\n",
       "      <th></th>\n",
       "      <th>london_borough</th>\n",
       "      <th>ID</th>\n",
       "      <th>date</th>\n",
       "      <th>average_price</th>\n",
       "    </tr>\n",
       "  </thead>\n",
       "  <tbody>\n",
       "    <tr>\n",
       "      <th>46</th>\n",
       "      <td>Unnamed: 47</td>\n",
       "      <td>NaN</td>\n",
       "      <td>1995-01-01</td>\n",
       "      <td>NaN</td>\n",
       "    </tr>\n",
       "    <tr>\n",
       "      <th>94</th>\n",
       "      <td>Unnamed: 47</td>\n",
       "      <td>NaN</td>\n",
       "      <td>1995-02-01</td>\n",
       "      <td>NaN</td>\n",
       "    </tr>\n",
       "  </tbody>\n",
       "</table>\n",
       "</div>"
      ],
      "text/plain": [
       "   london_borough   ID       date  average_price\n",
       "46    Unnamed: 47  NaN 1995-01-01            NaN\n",
       "94    Unnamed: 47  NaN 1995-02-01            NaN"
      ]
     },
     "execution_count": 27,
     "metadata": {},
     "output_type": "execute_result"
    }
   ],
   "source": [
    "properties_melt[properties_melt[\"london_borough\"] == \"Unnamed: 47\"].head(2)"
   ]
  },
  {
   "cell_type": "code",
   "execution_count": 28,
   "metadata": {},
   "outputs": [
    {
     "data": {
      "text/html": [
       "<div>\n",
       "<style scoped>\n",
       "    .dataframe tbody tr th:only-of-type {\n",
       "        vertical-align: middle;\n",
       "    }\n",
       "\n",
       "    .dataframe tbody tr th {\n",
       "        vertical-align: top;\n",
       "    }\n",
       "\n",
       "    .dataframe thead th {\n",
       "        text-align: right;\n",
       "    }\n",
       "</style>\n",
       "<table border=\"1\" class=\"dataframe\">\n",
       "  <thead>\n",
       "    <tr style=\"text-align: right;\">\n",
       "      <th></th>\n",
       "      <th>london_borough</th>\n",
       "      <th>ID</th>\n",
       "      <th>date</th>\n",
       "      <th>average_price</th>\n",
       "    </tr>\n",
       "  </thead>\n",
       "  <tbody>\n",
       "    <tr>\n",
       "      <th>33</th>\n",
       "      <td>Unnamed: 34</td>\n",
       "      <td>NaN</td>\n",
       "      <td>1995-01-01</td>\n",
       "      <td>NaN</td>\n",
       "    </tr>\n",
       "    <tr>\n",
       "      <th>81</th>\n",
       "      <td>Unnamed: 34</td>\n",
       "      <td>NaN</td>\n",
       "      <td>1995-02-01</td>\n",
       "      <td>NaN</td>\n",
       "    </tr>\n",
       "  </tbody>\n",
       "</table>\n",
       "</div>"
      ],
      "text/plain": [
       "   london_borough   ID       date  average_price\n",
       "33    Unnamed: 34  NaN 1995-01-01            NaN\n",
       "81    Unnamed: 34  NaN 1995-02-01            NaN"
      ]
     },
     "execution_count": 28,
     "metadata": {},
     "output_type": "execute_result"
    }
   ],
   "source": [
    "properties_melt[properties_melt[\"london_borough\"] == \"Unnamed: 34\"].head(2)"
   ]
  },
  {
   "cell_type": "code",
   "execution_count": 29,
   "metadata": {},
   "outputs": [
    {
     "data": {
      "text/html": [
       "<div>\n",
       "<style scoped>\n",
       "    .dataframe tbody tr th:only-of-type {\n",
       "        vertical-align: middle;\n",
       "    }\n",
       "\n",
       "    .dataframe tbody tr th {\n",
       "        vertical-align: top;\n",
       "    }\n",
       "\n",
       "    .dataframe thead th {\n",
       "        text-align: right;\n",
       "    }\n",
       "</style>\n",
       "<table border=\"1\" class=\"dataframe\">\n",
       "  <thead>\n",
       "    <tr style=\"text-align: right;\">\n",
       "      <th></th>\n",
       "      <th>london_borough</th>\n",
       "      <th>ID</th>\n",
       "      <th>date</th>\n",
       "      <th>average_price</th>\n",
       "    </tr>\n",
       "  </thead>\n",
       "  <tbody>\n",
       "    <tr>\n",
       "      <th>30</th>\n",
       "      <td>Waltham Forest</td>\n",
       "      <td>E09000031</td>\n",
       "      <td>1995-01-01</td>\n",
       "      <td>61319.44913</td>\n",
       "    </tr>\n",
       "    <tr>\n",
       "      <th>78</th>\n",
       "      <td>Waltham Forest</td>\n",
       "      <td>E09000031</td>\n",
       "      <td>1995-02-01</td>\n",
       "      <td>60252.12246</td>\n",
       "    </tr>\n",
       "  </tbody>\n",
       "</table>\n",
       "</div>"
      ],
      "text/plain": [
       "    london_borough         ID       date  average_price\n",
       "30  Waltham Forest  E09000031 1995-01-01    61319.44913\n",
       "78  Waltham Forest  E09000031 1995-02-01    60252.12246"
      ]
     },
     "execution_count": 29,
     "metadata": {},
     "output_type": "execute_result"
    }
   ],
   "source": [
    "properties_melt[properties_melt[\"london_borough\"] == \"Waltham Forest\"].head(2)"
   ]
  },
  {
   "cell_type": "code",
   "execution_count": 30,
   "metadata": {},
   "outputs": [
    {
     "data": {
      "text/plain": [
       "0        False\n",
       "1        False\n",
       "2        False\n",
       "3        False\n",
       "4        False\n",
       "         ...  \n",
       "15211    False\n",
       "15212    False\n",
       "15213    False\n",
       "15214     True\n",
       "15215    False\n",
       "Name: london_borough, Length: 15216, dtype: bool"
      ]
     },
     "execution_count": 30,
     "metadata": {},
     "output_type": "execute_result"
    }
   ],
   "source": [
    "bool1 = properties_melt[\"london_borough\"].isin([\"Unnamed: 47\",\"Unnamed: 37\",\"Unnamed: 34\"])\n",
    "bool1"
   ]
  },
  {
   "cell_type": "code",
   "execution_count": 31,
   "metadata": {},
   "outputs": [
    {
     "data": {
      "text/html": [
       "<div>\n",
       "<style scoped>\n",
       "    .dataframe tbody tr th:only-of-type {\n",
       "        vertical-align: middle;\n",
       "    }\n",
       "\n",
       "    .dataframe tbody tr th {\n",
       "        vertical-align: top;\n",
       "    }\n",
       "\n",
       "    .dataframe thead th {\n",
       "        text-align: right;\n",
       "    }\n",
       "</style>\n",
       "<table border=\"1\" class=\"dataframe\">\n",
       "  <thead>\n",
       "    <tr style=\"text-align: right;\">\n",
       "      <th></th>\n",
       "      <th>london_borough</th>\n",
       "      <th>ID</th>\n",
       "      <th>date</th>\n",
       "      <th>average_price</th>\n",
       "    </tr>\n",
       "  </thead>\n",
       "  <tbody>\n",
       "    <tr>\n",
       "      <th>0</th>\n",
       "      <td>City of London</td>\n",
       "      <td>E09000001</td>\n",
       "      <td>1995-01-01</td>\n",
       "      <td>91448.98487</td>\n",
       "    </tr>\n",
       "    <tr>\n",
       "      <th>1</th>\n",
       "      <td>Barking &amp; Dagenham</td>\n",
       "      <td>E09000002</td>\n",
       "      <td>1995-01-01</td>\n",
       "      <td>50460.22660</td>\n",
       "    </tr>\n",
       "    <tr>\n",
       "      <th>2</th>\n",
       "      <td>Barnet</td>\n",
       "      <td>E09000003</td>\n",
       "      <td>1995-01-01</td>\n",
       "      <td>93284.51832</td>\n",
       "    </tr>\n",
       "    <tr>\n",
       "      <th>3</th>\n",
       "      <td>Bexley</td>\n",
       "      <td>E09000004</td>\n",
       "      <td>1995-01-01</td>\n",
       "      <td>64958.09036</td>\n",
       "    </tr>\n",
       "    <tr>\n",
       "      <th>4</th>\n",
       "      <td>Brent</td>\n",
       "      <td>E09000005</td>\n",
       "      <td>1995-01-01</td>\n",
       "      <td>71306.56698</td>\n",
       "    </tr>\n",
       "    <tr>\n",
       "      <th>...</th>\n",
       "      <td>...</td>\n",
       "      <td>...</td>\n",
       "      <td>...</td>\n",
       "      <td>...</td>\n",
       "    </tr>\n",
       "    <tr>\n",
       "      <th>15210</th>\n",
       "      <td>EAST OF ENGLAND</td>\n",
       "      <td>E12000006</td>\n",
       "      <td>2021-05-01</td>\n",
       "      <td>310200.25640</td>\n",
       "    </tr>\n",
       "    <tr>\n",
       "      <th>15211</th>\n",
       "      <td>LONDON</td>\n",
       "      <td>E12000007</td>\n",
       "      <td>2021-05-01</td>\n",
       "      <td>497947.95890</td>\n",
       "    </tr>\n",
       "    <tr>\n",
       "      <th>15212</th>\n",
       "      <td>SOUTH EAST</td>\n",
       "      <td>E12000008</td>\n",
       "      <td>2021-05-01</td>\n",
       "      <td>350015.50720</td>\n",
       "    </tr>\n",
       "    <tr>\n",
       "      <th>15213</th>\n",
       "      <td>SOUTH WEST</td>\n",
       "      <td>E12000009</td>\n",
       "      <td>2021-05-01</td>\n",
       "      <td>277602.69830</td>\n",
       "    </tr>\n",
       "    <tr>\n",
       "      <th>15215</th>\n",
       "      <td>England</td>\n",
       "      <td>E92000001</td>\n",
       "      <td>2021-05-01</td>\n",
       "      <td>271433.87070</td>\n",
       "    </tr>\n",
       "  </tbody>\n",
       "</table>\n",
       "<p>14265 rows × 4 columns</p>\n",
       "</div>"
      ],
      "text/plain": [
       "           london_borough         ID       date  average_price\n",
       "0          City of London  E09000001 1995-01-01    91448.98487\n",
       "1      Barking & Dagenham  E09000002 1995-01-01    50460.22660\n",
       "2                  Barnet  E09000003 1995-01-01    93284.51832\n",
       "3                  Bexley  E09000004 1995-01-01    64958.09036\n",
       "4                   Brent  E09000005 1995-01-01    71306.56698\n",
       "...                   ...        ...        ...            ...\n",
       "15210     EAST OF ENGLAND  E12000006 2021-05-01   310200.25640\n",
       "15211              LONDON  E12000007 2021-05-01   497947.95890\n",
       "15212          SOUTH EAST  E12000008 2021-05-01   350015.50720\n",
       "15213          SOUTH WEST  E12000009 2021-05-01   277602.69830\n",
       "15215             England  E92000001 2021-05-01   271433.87070\n",
       "\n",
       "[14265 rows x 4 columns]"
      ]
     },
     "execution_count": 31,
     "metadata": {},
     "output_type": "execute_result"
    }
   ],
   "source": [
    "df = properties_melt.drop(properties_melt[bool1].index)\n",
    "df"
   ]
  },
  {
   "cell_type": "code",
   "execution_count": 32,
   "metadata": {},
   "outputs": [
    {
     "data": {
      "text/html": [
       "<div>\n",
       "<style scoped>\n",
       "    .dataframe tbody tr th:only-of-type {\n",
       "        vertical-align: middle;\n",
       "    }\n",
       "\n",
       "    .dataframe tbody tr th {\n",
       "        vertical-align: top;\n",
       "    }\n",
       "\n",
       "    .dataframe thead th {\n",
       "        text-align: right;\n",
       "    }\n",
       "</style>\n",
       "<table border=\"1\" class=\"dataframe\">\n",
       "  <thead>\n",
       "    <tr style=\"text-align: right;\">\n",
       "      <th></th>\n",
       "      <th>london_borough</th>\n",
       "      <th>ID</th>\n",
       "      <th>date</th>\n",
       "      <th>average_price</th>\n",
       "    </tr>\n",
       "  </thead>\n",
       "  <tbody>\n",
       "  </tbody>\n",
       "</table>\n",
       "</div>"
      ],
      "text/plain": [
       "Empty DataFrame\n",
       "Columns: [london_borough, ID, date, average_price]\n",
       "Index: []"
      ]
     },
     "execution_count": 32,
     "metadata": {},
     "output_type": "execute_result"
    }
   ],
   "source": [
    "df[df[\"london_borough\"] == \"Unnamed: 34\"].head(2)"
   ]
  },
  {
   "cell_type": "markdown",
   "metadata": {
    "colab_type": "text",
    "id": "PGEx6mJsp6dG"
   },
   "source": [
    "**2.6. Visualizing the data**\n",
    "\n",
    "To visualize the data, why not subset on a particular London Borough? Maybe do a line plot of Month against Average Price?"
   ]
  },
  {
   "cell_type": "code",
   "execution_count": 33,
   "metadata": {
    "colab": {},
    "colab_type": "code",
    "id": "nAg5pT9cqHAR"
   },
   "outputs": [
    {
     "data": {
      "text/plain": [
       "array(['City of London', 'Barking & Dagenham', 'Barnet', 'Bexley',\n",
       "       'Brent', 'Bromley', 'Camden', 'Croydon', 'Ealing', 'Enfield',\n",
       "       'Greenwich', 'Hackney', 'Hammersmith & Fulham', 'Haringey',\n",
       "       'Harrow', 'Havering', 'Hillingdon', 'Hounslow', 'Islington',\n",
       "       'Kensington & Chelsea', 'Kingston upon Thames', 'Lambeth',\n",
       "       'Lewisham', 'Merton', 'Newham', 'Redbridge',\n",
       "       'Richmond upon Thames', 'Southwark', 'Sutton', 'Tower Hamlets',\n",
       "       'Waltham Forest', 'Wandsworth', 'Westminster', 'Inner London',\n",
       "       'Outer London', 'NORTH EAST', 'NORTH WEST', 'YORKS & THE HUMBER',\n",
       "       'EAST MIDLANDS', 'WEST MIDLANDS', 'EAST OF ENGLAND', 'LONDON',\n",
       "       'SOUTH EAST', 'SOUTH WEST', 'England'], dtype=object)"
      ]
     },
     "execution_count": 33,
     "metadata": {},
     "output_type": "execute_result"
    }
   ],
   "source": [
    "df['london_borough'].unique()"
   ]
  },
  {
   "cell_type": "code",
   "execution_count": 34,
   "metadata": {},
   "outputs": [
    {
     "data": {
      "text/plain": [
       "33"
      ]
     },
     "execution_count": 34,
     "metadata": {},
     "output_type": "execute_result"
    }
   ],
   "source": [
    "london_boroughs = ['City of London', 'Barking & Dagenham', 'Barnet', 'Bexley',\n",
    "       'Brent', 'Bromley', 'Camden', 'Croydon', 'Ealing', 'Enfield',\n",
    "       'Greenwich', 'Hackney', 'Hammersmith & Fulham', 'Haringey',\n",
    "       'Harrow', 'Havering', 'Hillingdon', 'Hounslow', 'Islington',\n",
    "       'Kensington & Chelsea', 'Kingston upon Thames', 'Lambeth',\n",
    "       'Lewisham', 'Merton', 'Newham', 'Redbridge',\n",
    "       'Richmond upon Thames', 'Southwark', 'Sutton', 'Tower Hamlets',\n",
    "       'Waltham Forest', 'Wandsworth', 'Westminster']\n",
    "len(london_boroughs)"
   ]
  },
  {
   "cell_type": "code",
   "execution_count": 35,
   "metadata": {},
   "outputs": [],
   "source": [
    "# boolean serie of non - borough - city \n",
    "bool2 = df[\"london_borough\"].isin(london_boroughs)"
   ]
  },
  {
   "cell_type": "code",
   "execution_count": 36,
   "metadata": {},
   "outputs": [],
   "source": [
    "df1 = df.drop(df[~bool2].index)"
   ]
  },
  {
   "cell_type": "code",
   "execution_count": 37,
   "metadata": {},
   "outputs": [
    {
     "data": {
      "text/html": [
       "<div>\n",
       "<style scoped>\n",
       "    .dataframe tbody tr th:only-of-type {\n",
       "        vertical-align: middle;\n",
       "    }\n",
       "\n",
       "    .dataframe tbody tr th {\n",
       "        vertical-align: top;\n",
       "    }\n",
       "\n",
       "    .dataframe thead th {\n",
       "        text-align: right;\n",
       "    }\n",
       "</style>\n",
       "<table border=\"1\" class=\"dataframe\">\n",
       "  <thead>\n",
       "    <tr style=\"text-align: right;\">\n",
       "      <th></th>\n",
       "      <th>london_borough</th>\n",
       "      <th>ID</th>\n",
       "      <th>date</th>\n",
       "      <th>average_price</th>\n",
       "    </tr>\n",
       "  </thead>\n",
       "  <tbody>\n",
       "    <tr>\n",
       "      <th>0</th>\n",
       "      <td>City of London</td>\n",
       "      <td>E09000001</td>\n",
       "      <td>1995-01-01</td>\n",
       "      <td>91448.98487</td>\n",
       "    </tr>\n",
       "    <tr>\n",
       "      <th>1</th>\n",
       "      <td>Barking &amp; Dagenham</td>\n",
       "      <td>E09000002</td>\n",
       "      <td>1995-01-01</td>\n",
       "      <td>50460.22660</td>\n",
       "    </tr>\n",
       "    <tr>\n",
       "      <th>2</th>\n",
       "      <td>Barnet</td>\n",
       "      <td>E09000003</td>\n",
       "      <td>1995-01-01</td>\n",
       "      <td>93284.51832</td>\n",
       "    </tr>\n",
       "    <tr>\n",
       "      <th>3</th>\n",
       "      <td>Bexley</td>\n",
       "      <td>E09000004</td>\n",
       "      <td>1995-01-01</td>\n",
       "      <td>64958.09036</td>\n",
       "    </tr>\n",
       "    <tr>\n",
       "      <th>4</th>\n",
       "      <td>Brent</td>\n",
       "      <td>E09000005</td>\n",
       "      <td>1995-01-01</td>\n",
       "      <td>71306.56698</td>\n",
       "    </tr>\n",
       "  </tbody>\n",
       "</table>\n",
       "</div>"
      ],
      "text/plain": [
       "       london_borough         ID       date  average_price\n",
       "0      City of London  E09000001 1995-01-01    91448.98487\n",
       "1  Barking & Dagenham  E09000002 1995-01-01    50460.22660\n",
       "2              Barnet  E09000003 1995-01-01    93284.51832\n",
       "3              Bexley  E09000004 1995-01-01    64958.09036\n",
       "4               Brent  E09000005 1995-01-01    71306.56698"
      ]
     },
     "execution_count": 37,
     "metadata": {},
     "output_type": "execute_result"
    }
   ],
   "source": [
    "# dataframe with only borough london city\n",
    "df1.head(5)"
   ]
  },
  {
   "cell_type": "code",
   "execution_count": 38,
   "metadata": {},
   "outputs": [
    {
     "data": {
      "text/plain": [
       "london_borough    False\n",
       "ID                False\n",
       "date              False\n",
       "average_price     False\n",
       "dtype: bool"
      ]
     },
     "execution_count": 38,
     "metadata": {},
     "output_type": "execute_result"
    }
   ],
   "source": [
    "# no missing value in all columns\n",
    "df1.isna().any()"
   ]
  },
  {
   "cell_type": "code",
   "execution_count": 39,
   "metadata": {},
   "outputs": [
    {
     "data": {
      "text/html": [
       "<div>\n",
       "<style scoped>\n",
       "    .dataframe tbody tr th:only-of-type {\n",
       "        vertical-align: middle;\n",
       "    }\n",
       "\n",
       "    .dataframe tbody tr th {\n",
       "        vertical-align: top;\n",
       "    }\n",
       "\n",
       "    .dataframe thead th {\n",
       "        text-align: right;\n",
       "    }\n",
       "</style>\n",
       "<table border=\"1\" class=\"dataframe\">\n",
       "  <thead>\n",
       "    <tr style=\"text-align: right;\">\n",
       "      <th></th>\n",
       "      <th>average_price</th>\n",
       "    </tr>\n",
       "  </thead>\n",
       "  <tbody>\n",
       "    <tr>\n",
       "      <th>count</th>\n",
       "      <td>1.046100e+04</td>\n",
       "    </tr>\n",
       "    <tr>\n",
       "      <th>mean</th>\n",
       "      <td>3.090596e+05</td>\n",
       "    </tr>\n",
       "    <tr>\n",
       "      <th>std</th>\n",
       "      <td>2.063242e+05</td>\n",
       "    </tr>\n",
       "    <tr>\n",
       "      <th>min</th>\n",
       "      <td>5.046023e+04</td>\n",
       "    </tr>\n",
       "    <tr>\n",
       "      <th>25%</th>\n",
       "      <td>1.698777e+05</td>\n",
       "    </tr>\n",
       "    <tr>\n",
       "      <th>50%</th>\n",
       "      <td>2.617770e+05</td>\n",
       "    </tr>\n",
       "    <tr>\n",
       "      <th>75%</th>\n",
       "      <td>4.019022e+05</td>\n",
       "    </tr>\n",
       "    <tr>\n",
       "      <th>max</th>\n",
       "      <td>1.463378e+06</td>\n",
       "    </tr>\n",
       "  </tbody>\n",
       "</table>\n",
       "</div>"
      ],
      "text/plain": [
       "       average_price\n",
       "count   1.046100e+04\n",
       "mean    3.090596e+05\n",
       "std     2.063242e+05\n",
       "min     5.046023e+04\n",
       "25%     1.698777e+05\n",
       "50%     2.617770e+05\n",
       "75%     4.019022e+05\n",
       "max     1.463378e+06"
      ]
     },
     "execution_count": 39,
     "metadata": {},
     "output_type": "execute_result"
    }
   ],
   "source": [
    "df1.describe()"
   ]
  },
  {
   "cell_type": "code",
   "execution_count": 40,
   "metadata": {},
   "outputs": [
    {
     "data": {
      "text/html": [
       "<div>\n",
       "<style scoped>\n",
       "    .dataframe tbody tr th:only-of-type {\n",
       "        vertical-align: middle;\n",
       "    }\n",
       "\n",
       "    .dataframe tbody tr th {\n",
       "        vertical-align: top;\n",
       "    }\n",
       "\n",
       "    .dataframe thead th {\n",
       "        text-align: right;\n",
       "    }\n",
       "</style>\n",
       "<table border=\"1\" class=\"dataframe\">\n",
       "  <thead>\n",
       "    <tr style=\"text-align: right;\">\n",
       "      <th></th>\n",
       "      <th>mean</th>\n",
       "      <th>median</th>\n",
       "      <th>sum</th>\n",
       "      <th>min</th>\n",
       "      <th>max</th>\n",
       "      <th>std</th>\n",
       "    </tr>\n",
       "    <tr>\n",
       "      <th>london_borough</th>\n",
       "      <th></th>\n",
       "      <th></th>\n",
       "      <th></th>\n",
       "      <th></th>\n",
       "      <th></th>\n",
       "      <th></th>\n",
       "    </tr>\n",
       "  </thead>\n",
       "  <tbody>\n",
       "    <tr>\n",
       "      <th>Barking &amp; Dagenham</th>\n",
       "      <td>167149.485562</td>\n",
       "      <td>164421.8541</td>\n",
       "      <td>5.298639e+07</td>\n",
       "      <td>50460.22660</td>\n",
       "      <td>3.141874e+05</td>\n",
       "      <td>80911.939636</td>\n",
       "    </tr>\n",
       "    <tr>\n",
       "      <th>Bexley</th>\n",
       "      <td>197647.918614</td>\n",
       "      <td>197920.2974</td>\n",
       "      <td>6.265439e+07</td>\n",
       "      <td>63722.70055</td>\n",
       "      <td>3.685548e+05</td>\n",
       "      <td>90374.595862</td>\n",
       "    </tr>\n",
       "    <tr>\n",
       "      <th>Newham</th>\n",
       "      <td>204788.611296</td>\n",
       "      <td>204107.2175</td>\n",
       "      <td>6.491799e+07</td>\n",
       "      <td>53153.88306</td>\n",
       "      <td>3.910879e+05</td>\n",
       "      <td>103092.729273</td>\n",
       "    </tr>\n",
       "    <tr>\n",
       "      <th>Havering</th>\n",
       "      <td>213639.810289</td>\n",
       "      <td>216413.8020</td>\n",
       "      <td>6.772382e+07</td>\n",
       "      <td>66181.79433</td>\n",
       "      <td>3.888512e+05</td>\n",
       "      <td>97262.676253</td>\n",
       "    </tr>\n",
       "    <tr>\n",
       "      <th>Croydon</th>\n",
       "      <td>217928.866157</td>\n",
       "      <td>214113.7036</td>\n",
       "      <td>6.908345e+07</td>\n",
       "      <td>68006.00735</td>\n",
       "      <td>3.911316e+05</td>\n",
       "      <td>98545.699827</td>\n",
       "    </tr>\n",
       "    <tr>\n",
       "      <th>Greenwich</th>\n",
       "      <td>222510.366331</td>\n",
       "      <td>219651.6856</td>\n",
       "      <td>7.053579e+07</td>\n",
       "      <td>60993.26863</td>\n",
       "      <td>4.111161e+05</td>\n",
       "      <td>109329.557628</td>\n",
       "    </tr>\n",
       "    <tr>\n",
       "      <th>Sutton</th>\n",
       "      <td>225679.132264</td>\n",
       "      <td>226278.2487</td>\n",
       "      <td>7.154028e+07</td>\n",
       "      <td>69290.69004</td>\n",
       "      <td>3.984060e+05</td>\n",
       "      <td>100447.032806</td>\n",
       "    </tr>\n",
       "    <tr>\n",
       "      <th>Lewisham</th>\n",
       "      <td>227377.273971</td>\n",
       "      <td>219844.4612</td>\n",
       "      <td>7.207860e+07</td>\n",
       "      <td>57700.33538</td>\n",
       "      <td>4.493226e+05</td>\n",
       "      <td>120479.688545</td>\n",
       "    </tr>\n",
       "    <tr>\n",
       "      <th>Waltham Forest</th>\n",
       "      <td>232493.838714</td>\n",
       "      <td>217642.9733</td>\n",
       "      <td>7.370055e+07</td>\n",
       "      <td>60252.12246</td>\n",
       "      <td>4.871331e+05</td>\n",
       "      <td>128049.539486</td>\n",
       "    </tr>\n",
       "    <tr>\n",
       "      <th>Enfield</th>\n",
       "      <td>232727.373628</td>\n",
       "      <td>229651.6896</td>\n",
       "      <td>7.377458e+07</td>\n",
       "      <td>70630.77955</td>\n",
       "      <td>4.243389e+05</td>\n",
       "      <td>106985.746464</td>\n",
       "    </tr>\n",
       "    <tr>\n",
       "      <th>Hillingdon</th>\n",
       "      <td>242582.459047</td>\n",
       "      <td>240247.8046</td>\n",
       "      <td>7.689864e+07</td>\n",
       "      <td>71760.09266</td>\n",
       "      <td>4.327181e+05</td>\n",
       "      <td>110143.293376</td>\n",
       "    </tr>\n",
       "    <tr>\n",
       "      <th>Redbridge</th>\n",
       "      <td>244985.806988</td>\n",
       "      <td>245605.2723</td>\n",
       "      <td>7.766050e+07</td>\n",
       "      <td>72141.62610</td>\n",
       "      <td>4.525041e+05</td>\n",
       "      <td>113011.376623</td>\n",
       "    </tr>\n",
       "    <tr>\n",
       "      <th>Hounslow</th>\n",
       "      <td>245064.768392</td>\n",
       "      <td>245807.2719</td>\n",
       "      <td>7.768553e+07</td>\n",
       "      <td>71051.55852</td>\n",
       "      <td>4.420227e+05</td>\n",
       "      <td>108260.048900</td>\n",
       "    </tr>\n",
       "    <tr>\n",
       "      <th>Bromley</th>\n",
       "      <td>263716.181964</td>\n",
       "      <td>261809.1877</td>\n",
       "      <td>8.359803e+07</td>\n",
       "      <td>81124.41227</td>\n",
       "      <td>4.859468e+05</td>\n",
       "      <td>117763.590377</td>\n",
       "    </tr>\n",
       "    <tr>\n",
       "      <th>Tower Hamlets</th>\n",
       "      <td>268509.603958</td>\n",
       "      <td>268337.8169</td>\n",
       "      <td>8.511754e+07</td>\n",
       "      <td>59865.18995</td>\n",
       "      <td>4.869225e+05</td>\n",
       "      <td>129668.172309</td>\n",
       "    </tr>\n",
       "    <tr>\n",
       "      <th>Harrow</th>\n",
       "      <td>278933.357710</td>\n",
       "      <td>279518.7321</td>\n",
       "      <td>8.842187e+07</td>\n",
       "      <td>82054.42111</td>\n",
       "      <td>4.891035e+05</td>\n",
       "      <td>123660.493087</td>\n",
       "    </tr>\n",
       "    <tr>\n",
       "      <th>Brent</th>\n",
       "      <td>281822.349511</td>\n",
       "      <td>272443.1710</td>\n",
       "      <td>8.933768e+07</td>\n",
       "      <td>71306.56698</td>\n",
       "      <td>5.222393e+05</td>\n",
       "      <td>140029.802611</td>\n",
       "    </tr>\n",
       "    <tr>\n",
       "      <th>Ealing</th>\n",
       "      <td>285281.014519</td>\n",
       "      <td>279642.8321</td>\n",
       "      <td>9.043408e+07</td>\n",
       "      <td>79272.34618</td>\n",
       "      <td>5.089070e+05</td>\n",
       "      <td>133636.504997</td>\n",
       "    </tr>\n",
       "    <tr>\n",
       "      <th>Southwark</th>\n",
       "      <td>287242.204715</td>\n",
       "      <td>270739.9405</td>\n",
       "      <td>9.105578e+07</td>\n",
       "      <td>60885.98483</td>\n",
       "      <td>5.440097e+05</td>\n",
       "      <td>151901.548657</td>\n",
       "    </tr>\n",
       "    <tr>\n",
       "      <th>Lambeth</th>\n",
       "      <td>292104.694901</td>\n",
       "      <td>281970.2456</td>\n",
       "      <td>9.259719e+07</td>\n",
       "      <td>65381.51908</td>\n",
       "      <td>5.448445e+05</td>\n",
       "      <td>152531.141840</td>\n",
       "    </tr>\n",
       "    <tr>\n",
       "      <th>Kingston upon Thames</th>\n",
       "      <td>292491.684649</td>\n",
       "      <td>284562.9343</td>\n",
       "      <td>9.271986e+07</td>\n",
       "      <td>80875.84843</td>\n",
       "      <td>5.112600e+05</td>\n",
       "      <td>135517.571614</td>\n",
       "    </tr>\n",
       "    <tr>\n",
       "      <th>Merton</th>\n",
       "      <td>293952.752589</td>\n",
       "      <td>281239.0128</td>\n",
       "      <td>9.318302e+07</td>\n",
       "      <td>79569.22895</td>\n",
       "      <td>5.579119e+05</td>\n",
       "      <td>146381.864552</td>\n",
       "    </tr>\n",
       "    <tr>\n",
       "      <th>Hackney</th>\n",
       "      <td>300600.268223</td>\n",
       "      <td>292499.2034</td>\n",
       "      <td>9.529029e+07</td>\n",
       "      <td>61296.52637</td>\n",
       "      <td>6.071497e+05</td>\n",
       "      <td>170192.609605</td>\n",
       "    </tr>\n",
       "    <tr>\n",
       "      <th>Haringey</th>\n",
       "      <td>306498.346615</td>\n",
       "      <td>288455.7510</td>\n",
       "      <td>9.715998e+07</td>\n",
       "      <td>76287.56947</td>\n",
       "      <td>5.904514e+05</td>\n",
       "      <td>160264.981006</td>\n",
       "    </tr>\n",
       "    <tr>\n",
       "      <th>Barnet</th>\n",
       "      <td>316449.272329</td>\n",
       "      <td>310969.5080</td>\n",
       "      <td>1.003144e+08</td>\n",
       "      <td>90107.23471</td>\n",
       "      <td>5.494012e+05</td>\n",
       "      <td>146540.578655</td>\n",
       "    </tr>\n",
       "    <tr>\n",
       "      <th>Wandsworth</th>\n",
       "      <td>355818.087727</td>\n",
       "      <td>353348.6737</td>\n",
       "      <td>1.127943e+08</td>\n",
       "      <td>86518.05945</td>\n",
       "      <td>6.338261e+05</td>\n",
       "      <td>177498.698104</td>\n",
       "    </tr>\n",
       "    <tr>\n",
       "      <th>Islington</th>\n",
       "      <td>380300.678696</td>\n",
       "      <td>361012.2308</td>\n",
       "      <td>1.205553e+08</td>\n",
       "      <td>89406.19881</td>\n",
       "      <td>6.959130e+05</td>\n",
       "      <td>193469.680620</td>\n",
       "    </tr>\n",
       "    <tr>\n",
       "      <th>Richmond upon Thames</th>\n",
       "      <td>397950.894446</td>\n",
       "      <td>387736.8971</td>\n",
       "      <td>1.261504e+08</td>\n",
       "      <td>106875.00000</td>\n",
       "      <td>7.237749e+05</td>\n",
       "      <td>186031.639553</td>\n",
       "    </tr>\n",
       "    <tr>\n",
       "      <th>City of London</th>\n",
       "      <td>443522.340956</td>\n",
       "      <td>399437.2419</td>\n",
       "      <td>1.405966e+08</td>\n",
       "      <td>77101.20804</td>\n",
       "      <td>9.399116e+05</td>\n",
       "      <td>250955.598020</td>\n",
       "    </tr>\n",
       "    <tr>\n",
       "      <th>Hammersmith &amp; Fulham</th>\n",
       "      <td>458243.923111</td>\n",
       "      <td>456203.9439</td>\n",
       "      <td>1.452633e+08</td>\n",
       "      <td>120635.94670</td>\n",
       "      <td>7.811750e+05</td>\n",
       "      <td>217878.634108</td>\n",
       "    </tr>\n",
       "    <tr>\n",
       "      <th>Camden</th>\n",
       "      <td>485701.279275</td>\n",
       "      <td>454547.2348</td>\n",
       "      <td>1.539673e+08</td>\n",
       "      <td>115418.83960</td>\n",
       "      <td>8.902884e+05</td>\n",
       "      <td>248167.474341</td>\n",
       "    </tr>\n",
       "    <tr>\n",
       "      <th>Westminster</th>\n",
       "      <td>564696.044132</td>\n",
       "      <td>524989.1023</td>\n",
       "      <td>1.790086e+08</td>\n",
       "      <td>131468.30960</td>\n",
       "      <td>1.117408e+06</td>\n",
       "      <td>309731.715537</td>\n",
       "    </tr>\n",
       "    <tr>\n",
       "      <th>Kensington &amp; Chelsea</th>\n",
       "      <td>770557.659861</td>\n",
       "      <td>746126.6811</td>\n",
       "      <td>2.442668e+08</td>\n",
       "      <td>182345.24630</td>\n",
       "      <td>1.463378e+06</td>\n",
       "      <td>407727.153129</td>\n",
       "    </tr>\n",
       "  </tbody>\n",
       "</table>\n",
       "</div>"
      ],
      "text/plain": [
       "                               mean       median           sum           min  \\\n",
       "london_borough                                                                 \n",
       "Barking & Dagenham    167149.485562  164421.8541  5.298639e+07   50460.22660   \n",
       "Bexley                197647.918614  197920.2974  6.265439e+07   63722.70055   \n",
       "Newham                204788.611296  204107.2175  6.491799e+07   53153.88306   \n",
       "Havering              213639.810289  216413.8020  6.772382e+07   66181.79433   \n",
       "Croydon               217928.866157  214113.7036  6.908345e+07   68006.00735   \n",
       "Greenwich             222510.366331  219651.6856  7.053579e+07   60993.26863   \n",
       "Sutton                225679.132264  226278.2487  7.154028e+07   69290.69004   \n",
       "Lewisham              227377.273971  219844.4612  7.207860e+07   57700.33538   \n",
       "Waltham Forest        232493.838714  217642.9733  7.370055e+07   60252.12246   \n",
       "Enfield               232727.373628  229651.6896  7.377458e+07   70630.77955   \n",
       "Hillingdon            242582.459047  240247.8046  7.689864e+07   71760.09266   \n",
       "Redbridge             244985.806988  245605.2723  7.766050e+07   72141.62610   \n",
       "Hounslow              245064.768392  245807.2719  7.768553e+07   71051.55852   \n",
       "Bromley               263716.181964  261809.1877  8.359803e+07   81124.41227   \n",
       "Tower Hamlets         268509.603958  268337.8169  8.511754e+07   59865.18995   \n",
       "Harrow                278933.357710  279518.7321  8.842187e+07   82054.42111   \n",
       "Brent                 281822.349511  272443.1710  8.933768e+07   71306.56698   \n",
       "Ealing                285281.014519  279642.8321  9.043408e+07   79272.34618   \n",
       "Southwark             287242.204715  270739.9405  9.105578e+07   60885.98483   \n",
       "Lambeth               292104.694901  281970.2456  9.259719e+07   65381.51908   \n",
       "Kingston upon Thames  292491.684649  284562.9343  9.271986e+07   80875.84843   \n",
       "Merton                293952.752589  281239.0128  9.318302e+07   79569.22895   \n",
       "Hackney               300600.268223  292499.2034  9.529029e+07   61296.52637   \n",
       "Haringey              306498.346615  288455.7510  9.715998e+07   76287.56947   \n",
       "Barnet                316449.272329  310969.5080  1.003144e+08   90107.23471   \n",
       "Wandsworth            355818.087727  353348.6737  1.127943e+08   86518.05945   \n",
       "Islington             380300.678696  361012.2308  1.205553e+08   89406.19881   \n",
       "Richmond upon Thames  397950.894446  387736.8971  1.261504e+08  106875.00000   \n",
       "City of London        443522.340956  399437.2419  1.405966e+08   77101.20804   \n",
       "Hammersmith & Fulham  458243.923111  456203.9439  1.452633e+08  120635.94670   \n",
       "Camden                485701.279275  454547.2348  1.539673e+08  115418.83960   \n",
       "Westminster           564696.044132  524989.1023  1.790086e+08  131468.30960   \n",
       "Kensington & Chelsea  770557.659861  746126.6811  2.442668e+08  182345.24630   \n",
       "\n",
       "                               max            std  \n",
       "london_borough                                     \n",
       "Barking & Dagenham    3.141874e+05   80911.939636  \n",
       "Bexley                3.685548e+05   90374.595862  \n",
       "Newham                3.910879e+05  103092.729273  \n",
       "Havering              3.888512e+05   97262.676253  \n",
       "Croydon               3.911316e+05   98545.699827  \n",
       "Greenwich             4.111161e+05  109329.557628  \n",
       "Sutton                3.984060e+05  100447.032806  \n",
       "Lewisham              4.493226e+05  120479.688545  \n",
       "Waltham Forest        4.871331e+05  128049.539486  \n",
       "Enfield               4.243389e+05  106985.746464  \n",
       "Hillingdon            4.327181e+05  110143.293376  \n",
       "Redbridge             4.525041e+05  113011.376623  \n",
       "Hounslow              4.420227e+05  108260.048900  \n",
       "Bromley               4.859468e+05  117763.590377  \n",
       "Tower Hamlets         4.869225e+05  129668.172309  \n",
       "Harrow                4.891035e+05  123660.493087  \n",
       "Brent                 5.222393e+05  140029.802611  \n",
       "Ealing                5.089070e+05  133636.504997  \n",
       "Southwark             5.440097e+05  151901.548657  \n",
       "Lambeth               5.448445e+05  152531.141840  \n",
       "Kingston upon Thames  5.112600e+05  135517.571614  \n",
       "Merton                5.579119e+05  146381.864552  \n",
       "Hackney               6.071497e+05  170192.609605  \n",
       "Haringey              5.904514e+05  160264.981006  \n",
       "Barnet                5.494012e+05  146540.578655  \n",
       "Wandsworth            6.338261e+05  177498.698104  \n",
       "Islington             6.959130e+05  193469.680620  \n",
       "Richmond upon Thames  7.237749e+05  186031.639553  \n",
       "City of London        9.399116e+05  250955.598020  \n",
       "Hammersmith & Fulham  7.811750e+05  217878.634108  \n",
       "Camden                8.902884e+05  248167.474341  \n",
       "Westminster           1.117408e+06  309731.715537  \n",
       "Kensington & Chelsea  1.463378e+06  407727.153129  "
      ]
     },
     "execution_count": 40,
     "metadata": {},
     "output_type": "execute_result"
    }
   ],
   "source": [
    "df1.groupby('london_borough')['average_price'].agg([np.mean, np.median, sum, min, max, np.std]).sort_values(by = 'mean')"
   ]
  },
  {
   "cell_type": "code",
   "execution_count": 41,
   "metadata": {},
   "outputs": [
    {
     "data": {
      "text/html": [
       "<div>\n",
       "<style scoped>\n",
       "    .dataframe tbody tr th:only-of-type {\n",
       "        vertical-align: middle;\n",
       "    }\n",
       "\n",
       "    .dataframe tbody tr th {\n",
       "        vertical-align: top;\n",
       "    }\n",
       "\n",
       "    .dataframe thead th {\n",
       "        text-align: right;\n",
       "    }\n",
       "</style>\n",
       "<table border=\"1\" class=\"dataframe\">\n",
       "  <thead>\n",
       "    <tr style=\"text-align: right;\">\n",
       "      <th></th>\n",
       "      <th></th>\n",
       "      <th>mean</th>\n",
       "    </tr>\n",
       "    <tr>\n",
       "      <th>london_borough</th>\n",
       "      <th>date</th>\n",
       "      <th></th>\n",
       "    </tr>\n",
       "  </thead>\n",
       "  <tbody>\n",
       "    <tr>\n",
       "      <th rowspan=\"5\" valign=\"top\">Barking &amp; Dagenham</th>\n",
       "      <th>1995-01-01</th>\n",
       "      <td>5.046023e+04</td>\n",
       "    </tr>\n",
       "    <tr>\n",
       "      <th>1996-07-01</th>\n",
       "      <td>5.062111e+04</td>\n",
       "    </tr>\n",
       "    <tr>\n",
       "      <th>1996-06-01</th>\n",
       "      <td>5.076140e+04</td>\n",
       "    </tr>\n",
       "    <tr>\n",
       "      <th>1996-01-01</th>\n",
       "      <td>5.082811e+04</td>\n",
       "    </tr>\n",
       "    <tr>\n",
       "      <th>1995-11-01</th>\n",
       "      <td>5.084868e+04</td>\n",
       "    </tr>\n",
       "    <tr>\n",
       "      <th>...</th>\n",
       "      <th>...</th>\n",
       "      <td>...</td>\n",
       "    </tr>\n",
       "    <tr>\n",
       "      <th rowspan=\"5\" valign=\"top\">Kensington &amp; Chelsea</th>\n",
       "      <th>2017-01-01</th>\n",
       "      <td>1.394421e+06</td>\n",
       "    </tr>\n",
       "    <tr>\n",
       "      <th>2017-04-01</th>\n",
       "      <td>1.399839e+06</td>\n",
       "    </tr>\n",
       "    <tr>\n",
       "      <th>2017-02-01</th>\n",
       "      <td>1.412255e+06</td>\n",
       "    </tr>\n",
       "    <tr>\n",
       "      <th>2018-08-01</th>\n",
       "      <td>1.418032e+06</td>\n",
       "    </tr>\n",
       "    <tr>\n",
       "      <th>2018-01-01</th>\n",
       "      <td>1.463378e+06</td>\n",
       "    </tr>\n",
       "  </tbody>\n",
       "</table>\n",
       "<p>10461 rows × 1 columns</p>\n",
       "</div>"
      ],
      "text/plain": [
       "                                         mean\n",
       "london_borough       date                    \n",
       "Barking & Dagenham   1995-01-01  5.046023e+04\n",
       "                     1996-07-01  5.062111e+04\n",
       "                     1996-06-01  5.076140e+04\n",
       "                     1996-01-01  5.082811e+04\n",
       "                     1995-11-01  5.084868e+04\n",
       "...                                       ...\n",
       "Kensington & Chelsea 2017-01-01  1.394421e+06\n",
       "                     2017-04-01  1.399839e+06\n",
       "                     2017-02-01  1.412255e+06\n",
       "                     2018-08-01  1.418032e+06\n",
       "                     2018-01-01  1.463378e+06\n",
       "\n",
       "[10461 rows x 1 columns]"
      ]
     },
     "execution_count": 41,
     "metadata": {},
     "output_type": "execute_result"
    }
   ],
   "source": [
    "df1.groupby(['london_borough', 'date'])['average_price'].agg([np.mean]).sort_values(by = 'mean')"
   ]
  },
  {
   "cell_type": "code",
   "execution_count": 42,
   "metadata": {},
   "outputs": [],
   "source": [
    "BD = df1[df1['london_borough'] == 'Barking & Dagenham']\n",
    "KC = df1[df1['london_borough'] == 'Kensington & Chelsea']\n",
    "WF = df1[df1['london_borough'] == 'Waltham Forest']"
   ]
  },
  {
   "cell_type": "code",
   "execution_count": 43,
   "metadata": {},
   "outputs": [
    {
     "data": {
      "image/png": "[encoded data removed]",
      "text/plain": [
       "<Figure size 432x288 with 1 Axes>"
      ]
     },
     "metadata": {
      "needs_background": "light"
     },
     "output_type": "display_data"
    },
    {
     "data": {
      "image/png": "[encoded data removed]",
      "text/plain": [
       "<Figure size 432x288 with 1 Axes>"
      ]
     },
     "metadata": {
      "needs_background": "light"
     },
     "output_type": "display_data"
    },
    {
     "data": {
      "image/png": "[encoded data removed]",
      "text/plain": [
       "<Figure size 432x288 with 1 Axes>"
      ]
     },
     "metadata": {
      "needs_background": "light"
     },
     "output_type": "display_data"
    }
   ],
   "source": [
    "BD.plot(kind = \"line\", x = \"date\", y=\"average_price\", label = \"line 1\")\n",
    "KC.plot(kind = \"line\", x = \"date\", y=\"average_price\" , label = \"line 2\")\n",
    "WF.plot(kind = \"line\", x = \"date\", y=\"average_price\" , label = \"line 3\")\n",
    "\n",
    "plt.show()"
   ]
  },
  {
   "cell_type": "code",
   "execution_count": 44,
   "metadata": {},
   "outputs": [
    {
     "data": {
      "text/html": [
       "<div>\n",
       "<style scoped>\n",
       "    .dataframe tbody tr th:only-of-type {\n",
       "        vertical-align: middle;\n",
       "    }\n",
       "\n",
       "    .dataframe tbody tr th {\n",
       "        vertical-align: top;\n",
       "    }\n",
       "\n",
       "    .dataframe thead th {\n",
       "        text-align: right;\n",
       "    }\n",
       "</style>\n",
       "<table border=\"1\" class=\"dataframe\">\n",
       "  <thead>\n",
       "    <tr style=\"text-align: right;\">\n",
       "      <th></th>\n",
       "      <th>london_borough</th>\n",
       "      <th>ID</th>\n",
       "      <th>date</th>\n",
       "      <th>average_price</th>\n",
       "    </tr>\n",
       "  </thead>\n",
       "  <tbody>\n",
       "    <tr>\n",
       "      <th>0</th>\n",
       "      <td>Barking &amp; Dagenham</td>\n",
       "      <td>E09000002</td>\n",
       "      <td>1995-01-01</td>\n",
       "      <td>50460.22660</td>\n",
       "    </tr>\n",
       "    <tr>\n",
       "      <th>1</th>\n",
       "      <td>Barking &amp; Dagenham</td>\n",
       "      <td>E09000002</td>\n",
       "      <td>1995-02-01</td>\n",
       "      <td>51085.77983</td>\n",
       "    </tr>\n",
       "    <tr>\n",
       "      <th>2</th>\n",
       "      <td>Barking &amp; Dagenham</td>\n",
       "      <td>E09000002</td>\n",
       "      <td>1995-03-01</td>\n",
       "      <td>51268.96956</td>\n",
       "    </tr>\n",
       "    <tr>\n",
       "      <th>3</th>\n",
       "      <td>Barking &amp; Dagenham</td>\n",
       "      <td>E09000002</td>\n",
       "      <td>1995-04-01</td>\n",
       "      <td>53133.50526</td>\n",
       "    </tr>\n",
       "    <tr>\n",
       "      <th>4</th>\n",
       "      <td>Barking &amp; Dagenham</td>\n",
       "      <td>E09000002</td>\n",
       "      <td>1995-05-01</td>\n",
       "      <td>53042.24852</td>\n",
       "    </tr>\n",
       "  </tbody>\n",
       "</table>\n",
       "</div>"
      ],
      "text/plain": [
       "       london_borough         ID       date  average_price\n",
       "0  Barking & Dagenham  E09000002 1995-01-01    50460.22660\n",
       "1  Barking & Dagenham  E09000002 1995-02-01    51085.77983\n",
       "2  Barking & Dagenham  E09000002 1995-03-01    51268.96956\n",
       "3  Barking & Dagenham  E09000002 1995-04-01    53133.50526\n",
       "4  Barking & Dagenham  E09000002 1995-05-01    53042.24852"
      ]
     },
     "execution_count": 44,
     "metadata": {},
     "output_type": "execute_result"
    }
   ],
   "source": [
    "BD = df1[df1['london_borough'] == 'Barking & Dagenham']\n",
    "BD.head(5)\n",
    "BD.reset_index(drop = True).head(5)"
   ]
  },
  {
   "cell_type": "markdown",
   "metadata": {
    "colab_type": "text",
    "id": "aWTPqSJeqHnC"
   },
   "source": [
    "To limit the number of data points you have, you might want to extract the year from every month value your *Month* column. \n",
    "\n",
    "To this end, you *could* apply a ***lambda function***. Your logic could work as follows:\n",
    "1. look through the `Month` column\n",
    "2. extract the year from each individual value in that column \n",
    "3. store that corresponding year as separate column. \n",
    "\n",
    "Whether you go ahead with this is up to you. Just so long as you answer our initial brief: which boroughs of London have seen the greatest house price increase, on average, over the past two decades? "
   ]
  },
  {
   "cell_type": "code",
   "execution_count": 45,
   "metadata": {
    "colab": {},
    "colab_type": "code",
    "id": "e0DF92cyqnu8"
   },
   "outputs": [
    {
     "data": {
      "text/html": [
       "<div>\n",
       "<style scoped>\n",
       "    .dataframe tbody tr th:only-of-type {\n",
       "        vertical-align: middle;\n",
       "    }\n",
       "\n",
       "    .dataframe tbody tr th {\n",
       "        vertical-align: top;\n",
       "    }\n",
       "\n",
       "    .dataframe thead th {\n",
       "        text-align: right;\n",
       "    }\n",
       "</style>\n",
       "<table border=\"1\" class=\"dataframe\">\n",
       "  <thead>\n",
       "    <tr style=\"text-align: right;\">\n",
       "      <th></th>\n",
       "      <th>london_borough</th>\n",
       "      <th>ID</th>\n",
       "      <th>date</th>\n",
       "      <th>average_price</th>\n",
       "      <th>year</th>\n",
       "    </tr>\n",
       "  </thead>\n",
       "  <tbody>\n",
       "    <tr>\n",
       "      <th>0</th>\n",
       "      <td>City of London</td>\n",
       "      <td>E09000001</td>\n",
       "      <td>1995-01-01</td>\n",
       "      <td>91448.98487</td>\n",
       "      <td>1995</td>\n",
       "    </tr>\n",
       "    <tr>\n",
       "      <th>1</th>\n",
       "      <td>Barking &amp; Dagenham</td>\n",
       "      <td>E09000002</td>\n",
       "      <td>1995-01-01</td>\n",
       "      <td>50460.22660</td>\n",
       "      <td>1995</td>\n",
       "    </tr>\n",
       "    <tr>\n",
       "      <th>2</th>\n",
       "      <td>Barnet</td>\n",
       "      <td>E09000003</td>\n",
       "      <td>1995-01-01</td>\n",
       "      <td>93284.51832</td>\n",
       "      <td>1995</td>\n",
       "    </tr>\n",
       "    <tr>\n",
       "      <th>3</th>\n",
       "      <td>Bexley</td>\n",
       "      <td>E09000004</td>\n",
       "      <td>1995-01-01</td>\n",
       "      <td>64958.09036</td>\n",
       "      <td>1995</td>\n",
       "    </tr>\n",
       "    <tr>\n",
       "      <th>4</th>\n",
       "      <td>Brent</td>\n",
       "      <td>E09000005</td>\n",
       "      <td>1995-01-01</td>\n",
       "      <td>71306.56698</td>\n",
       "      <td>1995</td>\n",
       "    </tr>\n",
       "    <tr>\n",
       "      <th>5</th>\n",
       "      <td>Bromley</td>\n",
       "      <td>E09000006</td>\n",
       "      <td>1995-01-01</td>\n",
       "      <td>81671.47692</td>\n",
       "      <td>1995</td>\n",
       "    </tr>\n",
       "    <tr>\n",
       "      <th>6</th>\n",
       "      <td>Camden</td>\n",
       "      <td>E09000007</td>\n",
       "      <td>1995-01-01</td>\n",
       "      <td>120932.88810</td>\n",
       "      <td>1995</td>\n",
       "    </tr>\n",
       "    <tr>\n",
       "      <th>7</th>\n",
       "      <td>Croydon</td>\n",
       "      <td>E09000008</td>\n",
       "      <td>1995-01-01</td>\n",
       "      <td>69158.16225</td>\n",
       "      <td>1995</td>\n",
       "    </tr>\n",
       "    <tr>\n",
       "      <th>8</th>\n",
       "      <td>Ealing</td>\n",
       "      <td>E09000009</td>\n",
       "      <td>1995-01-01</td>\n",
       "      <td>79885.89069</td>\n",
       "      <td>1995</td>\n",
       "    </tr>\n",
       "    <tr>\n",
       "      <th>9</th>\n",
       "      <td>Enfield</td>\n",
       "      <td>E09000010</td>\n",
       "      <td>1995-01-01</td>\n",
       "      <td>72514.69096</td>\n",
       "      <td>1995</td>\n",
       "    </tr>\n",
       "  </tbody>\n",
       "</table>\n",
       "</div>"
      ],
      "text/plain": [
       "       london_borough         ID       date  average_price  year\n",
       "0      City of London  E09000001 1995-01-01    91448.98487  1995\n",
       "1  Barking & Dagenham  E09000002 1995-01-01    50460.22660  1995\n",
       "2              Barnet  E09000003 1995-01-01    93284.51832  1995\n",
       "3              Bexley  E09000004 1995-01-01    64958.09036  1995\n",
       "4               Brent  E09000005 1995-01-01    71306.56698  1995\n",
       "5             Bromley  E09000006 1995-01-01    81671.47692  1995\n",
       "6              Camden  E09000007 1995-01-01   120932.88810  1995\n",
       "7             Croydon  E09000008 1995-01-01    69158.16225  1995\n",
       "8              Ealing  E09000009 1995-01-01    79885.89069  1995\n",
       "9             Enfield  E09000010 1995-01-01    72514.69096  1995"
      ]
     },
     "execution_count": 45,
     "metadata": {},
     "output_type": "execute_result"
    }
   ],
   "source": [
    "df1['year'] = df1['date'].apply(lambda y : y.year)\n",
    "df1.head(10)"
   ]
  },
  {
   "cell_type": "code",
   "execution_count": 46,
   "metadata": {},
   "outputs": [
    {
     "data": {
      "text/plain": [
       "london_borough            object\n",
       "ID                        object\n",
       "date              datetime64[ns]\n",
       "average_price            float64\n",
       "year                       int64\n",
       "dtype: object"
      ]
     },
     "execution_count": 46,
     "metadata": {},
     "output_type": "execute_result"
    }
   ],
   "source": [
    "df1.dtypes"
   ]
  },
  {
   "cell_type": "code",
   "execution_count": 47,
   "metadata": {},
   "outputs": [
    {
     "data": {
      "text/plain": [
       "london_borough    10461\n",
       "ID                10461\n",
       "date              10461\n",
       "average_price     10461\n",
       "year              10461\n",
       "dtype: int64"
      ]
     },
     "execution_count": 47,
     "metadata": {},
     "output_type": "execute_result"
    }
   ],
   "source": [
    "df1.count()"
   ]
  },
  {
   "cell_type": "code",
   "execution_count": 48,
   "metadata": {},
   "outputs": [
    {
     "data": {
      "text/plain": [
       "london_borough    False\n",
       "ID                False\n",
       "date              False\n",
       "average_price     False\n",
       "year              False\n",
       "dtype: bool"
      ]
     },
     "execution_count": 48,
     "metadata": {},
     "output_type": "execute_result"
    }
   ],
   "source": [
    "# there is no missing value \n",
    "df1.isna().any()"
   ]
  },
  {
   "cell_type": "code",
   "execution_count": 49,
   "metadata": {},
   "outputs": [
    {
     "data": {
      "text/html": [
       "<div>\n",
       "<style scoped>\n",
       "    .dataframe tbody tr th:only-of-type {\n",
       "        vertical-align: middle;\n",
       "    }\n",
       "\n",
       "    .dataframe tbody tr th {\n",
       "        vertical-align: top;\n",
       "    }\n",
       "\n",
       "    .dataframe thead th {\n",
       "        text-align: right;\n",
       "    }\n",
       "</style>\n",
       "<table border=\"1\" class=\"dataframe\">\n",
       "  <thead>\n",
       "    <tr style=\"text-align: right;\">\n",
       "      <th></th>\n",
       "      <th></th>\n",
       "      <th>average_price</th>\n",
       "    </tr>\n",
       "    <tr>\n",
       "      <th>london_borough</th>\n",
       "      <th>year</th>\n",
       "      <th></th>\n",
       "    </tr>\n",
       "  </thead>\n",
       "  <tbody>\n",
       "    <tr>\n",
       "      <th>Croydon</th>\n",
       "      <th>2016</th>\n",
       "      <td>355846.809333</td>\n",
       "    </tr>\n",
       "    <tr>\n",
       "      <th>Harrow</th>\n",
       "      <th>2012</th>\n",
       "      <td>304904.630375</td>\n",
       "    </tr>\n",
       "    <tr>\n",
       "      <th>Lewisham</th>\n",
       "      <th>1998</th>\n",
       "      <td>75539.051649</td>\n",
       "    </tr>\n",
       "    <tr>\n",
       "      <th>Bromley</th>\n",
       "      <th>1998</th>\n",
       "      <td>108286.520467</td>\n",
       "    </tr>\n",
       "    <tr>\n",
       "      <th>Tower Hamlets</th>\n",
       "      <th>2004</th>\n",
       "      <td>219986.892633</td>\n",
       "    </tr>\n",
       "  </tbody>\n",
       "</table>\n",
       "</div>"
      ],
      "text/plain": [
       "                     average_price\n",
       "london_borough year               \n",
       "Croydon        2016  355846.809333\n",
       "Harrow         2012  304904.630375\n",
       "Lewisham       1998   75539.051649\n",
       "Bromley        1998  108286.520467\n",
       "Tower Hamlets  2004  219986.892633"
      ]
     },
     "execution_count": 49,
     "metadata": {},
     "output_type": "execute_result"
    }
   ],
   "source": [
    "dfg = df1.groupby(by = ['london_borough', 'year']).mean()\n",
    "dfg.sample(5)"
   ]
  },
  {
   "cell_type": "code",
   "execution_count": 50,
   "metadata": {},
   "outputs": [],
   "source": [
    "dfg = dfg.reset_index()"
   ]
  },
  {
   "cell_type": "code",
   "execution_count": 51,
   "metadata": {},
   "outputs": [
    {
     "data": {
      "text/html": [
       "<div>\n",
       "<style scoped>\n",
       "    .dataframe tbody tr th:only-of-type {\n",
       "        vertical-align: middle;\n",
       "    }\n",
       "\n",
       "    .dataframe tbody tr th {\n",
       "        vertical-align: top;\n",
       "    }\n",
       "\n",
       "    .dataframe thead th {\n",
       "        text-align: right;\n",
       "    }\n",
       "</style>\n",
       "<table border=\"1\" class=\"dataframe\">\n",
       "  <thead>\n",
       "    <tr style=\"text-align: right;\">\n",
       "      <th></th>\n",
       "      <th>london_borough</th>\n",
       "      <th>year</th>\n",
       "      <th>average_price</th>\n",
       "    </tr>\n",
       "  </thead>\n",
       "  <tbody>\n",
       "    <tr>\n",
       "      <th>886</th>\n",
       "      <td>Westminster</td>\n",
       "      <td>2017</td>\n",
       "      <td>1.064772e+06</td>\n",
       "    </tr>\n",
       "    <tr>\n",
       "      <th>887</th>\n",
       "      <td>Westminster</td>\n",
       "      <td>2018</td>\n",
       "      <td>1.020025e+06</td>\n",
       "    </tr>\n",
       "    <tr>\n",
       "      <th>888</th>\n",
       "      <td>Westminster</td>\n",
       "      <td>2019</td>\n",
       "      <td>9.559986e+05</td>\n",
       "    </tr>\n",
       "    <tr>\n",
       "      <th>889</th>\n",
       "      <td>Westminster</td>\n",
       "      <td>2020</td>\n",
       "      <td>9.604692e+05</td>\n",
       "    </tr>\n",
       "    <tr>\n",
       "      <th>890</th>\n",
       "      <td>Westminster</td>\n",
       "      <td>2021</td>\n",
       "      <td>9.652117e+05</td>\n",
       "    </tr>\n",
       "  </tbody>\n",
       "</table>\n",
       "</div>"
      ],
      "text/plain": [
       "    london_borough  year  average_price\n",
       "886    Westminster  2017   1.064772e+06\n",
       "887    Westminster  2018   1.020025e+06\n",
       "888    Westminster  2019   9.559986e+05\n",
       "889    Westminster  2020   9.604692e+05\n",
       "890    Westminster  2021   9.652117e+05"
      ]
     },
     "execution_count": 51,
     "metadata": {},
     "output_type": "execute_result"
    }
   ],
   "source": [
    "dfg.tail(5)"
   ]
  },
  {
   "cell_type": "code",
   "execution_count": 52,
   "metadata": {},
   "outputs": [
    {
     "data": {
      "text/plain": [
       "london_borough     object\n",
       "year                int64\n",
       "average_price     float64\n",
       "dtype: object"
      ]
     },
     "execution_count": 52,
     "metadata": {},
     "output_type": "execute_result"
    }
   ],
   "source": [
    "dfg.dtypes"
   ]
  },
  {
   "cell_type": "code",
   "execution_count": 53,
   "metadata": {},
   "outputs": [
    {
     "data": {
      "text/plain": [
       "london_borough    891\n",
       "year              891\n",
       "average_price     891\n",
       "dtype: int64"
      ]
     },
     "execution_count": 53,
     "metadata": {},
     "output_type": "execute_result"
    }
   ],
   "source": [
    "dfg.count()"
   ]
  },
  {
   "cell_type": "markdown",
   "metadata": {
    "colab_type": "text",
    "id": "2knuTxAEqoJ4"
   },
   "source": [
    "**3. Modeling**\n",
    "\n",
    "Consider creating a function that will calculate a ratio of house prices, comparing the price of a house in 2018 to the price in 1998.\n",
    "\n",
    "Consider calling this function create_price_ratio.\n",
    "\n",
    "You'd want this function to:\n",
    "1. Take a filter of dfg, specifically where this filter constrains the London_Borough, as an argument. For example, one admissible argument should be: dfg[dfg['London_Borough']=='Camden'].\n",
    "2. Get the Average Price for that Borough, for the years 1998 and 2018.\n",
    "4. Calculate the ratio of the Average Price for 1998 divided by the Average Price for 2018.\n",
    "5. Return that ratio.\n",
    "\n",
    "Once you've written this function, you ultimately want to use it to iterate through all the unique London_Boroughs and work out the ratio capturing the difference of house prices between 1998 and 2018.\n",
    "\n",
    "Bear in mind: you don't have to write a function like this if you don't want to. If you can solve the brief otherwise, then great! \n",
    "\n",
    "***Hint***: This section should test the skills you acquired in:\n",
    "- Python Data Science Toolbox - Part One, all modules"
   ]
  },
  {
   "cell_type": "code",
   "execution_count": 54,
   "metadata": {
    "colab": {},
    "colab_type": "code",
    "id": "cKTyr437UgDa"
   },
   "outputs": [],
   "source": [
    "def create_price_ratio(df):\n",
    "    yy1998 = float(df['average_price'][df['year']== 1998])\n",
    "    yy2018 = float(df['average_price'][df['year']== 2018])\n",
    "    ratio = [yy2018/yy1998]\n",
    "    print(ratio)"
   ]
  },
  {
   "cell_type": "code",
   "execution_count": 55,
   "metadata": {},
   "outputs": [
    {
     "name": "stdout",
     "output_type": "stream",
     "text": [
      "<class 'pandas.core.frame.DataFrame'>\n",
      "london_borough            object\n",
      "ID                        object\n",
      "date              datetime64[ns]\n",
      "average_price            float64\n",
      "year                       int64\n",
      "dtype: object\n",
      "<class 'pandas.core.frame.DataFrame'>\n",
      "london_borough     object\n",
      "year                int64\n",
      "average_price     float64\n",
      "dtype: object\n"
     ]
    }
   ],
   "source": [
    "print(type(df1))\n",
    "print(df1.dtypes)\n",
    "print(type(dfg))\n",
    "print(dfg.dtypes)"
   ]
  },
  {
   "cell_type": "code",
   "execution_count": 56,
   "metadata": {},
   "outputs": [
    {
     "name": "stdout",
     "output_type": "stream",
     "text": [
      "[4.89661861291754]\n"
     ]
    }
   ],
   "source": [
    "#BD is the df with ['london_borough'] == 'Barking & Dagenham'\n",
    "BD2 = dfg[dfg['london_borough'] == 'Barking & Dagenham']\n",
    "create_price_ratio(BD2) "
   ]
  },
  {
   "cell_type": "code",
   "execution_count": 57,
   "metadata": {},
   "outputs": [
    {
     "ename": "TypeError",
     "evalue": "cannot convert the series to <class 'float'>",
     "output_type": "error",
     "traceback": [
      "\u001b[1;31m---------------------------------------------------------------------------\u001b[0m",
      "\u001b[1;31mTypeError\u001b[0m                                 Traceback (most recent call last)",
      "\u001b[1;32m<ipython-input-57-5d357e85e50d>\u001b[0m in \u001b[0;36m<module>\u001b[1;34m\u001b[0m\n\u001b[0;32m      1\u001b[0m \u001b[1;31m# why it does not works with df1 and works with dfg ????\u001b[0m\u001b[1;33m\u001b[0m\u001b[1;33m\u001b[0m\u001b[1;33m\u001b[0m\u001b[0m\n\u001b[0;32m      2\u001b[0m \u001b[0mBD2\u001b[0m \u001b[1;33m=\u001b[0m \u001b[0mdf1\u001b[0m\u001b[1;33m[\u001b[0m\u001b[0mdf1\u001b[0m\u001b[1;33m[\u001b[0m\u001b[1;34m'london_borough'\u001b[0m\u001b[1;33m]\u001b[0m \u001b[1;33m==\u001b[0m \u001b[1;34m'Barking & Dagenham'\u001b[0m\u001b[1;33m]\u001b[0m\u001b[1;33m\u001b[0m\u001b[1;33m\u001b[0m\u001b[0m\n\u001b[1;32m----> 3\u001b[1;33m \u001b[0mcreate_price_ratio\u001b[0m\u001b[1;33m(\u001b[0m\u001b[0mBD2\u001b[0m\u001b[1;33m)\u001b[0m\u001b[1;33m\u001b[0m\u001b[1;33m\u001b[0m\u001b[0m\n\u001b[0m",
      "\u001b[1;32m<ipython-input-54-73be1dee0a9a>\u001b[0m in \u001b[0;36mcreate_price_ratio\u001b[1;34m(df)\u001b[0m\n\u001b[0;32m      1\u001b[0m \u001b[1;32mdef\u001b[0m \u001b[0mcreate_price_ratio\u001b[0m\u001b[1;33m(\u001b[0m\u001b[0mdf\u001b[0m\u001b[1;33m)\u001b[0m\u001b[1;33m:\u001b[0m\u001b[1;33m\u001b[0m\u001b[1;33m\u001b[0m\u001b[0m\n\u001b[1;32m----> 2\u001b[1;33m     \u001b[0myy1998\u001b[0m \u001b[1;33m=\u001b[0m \u001b[0mfloat\u001b[0m\u001b[1;33m(\u001b[0m\u001b[0mdf\u001b[0m\u001b[1;33m[\u001b[0m\u001b[1;34m'average_price'\u001b[0m\u001b[1;33m]\u001b[0m\u001b[1;33m[\u001b[0m\u001b[0mdf\u001b[0m\u001b[1;33m[\u001b[0m\u001b[1;34m'year'\u001b[0m\u001b[1;33m]\u001b[0m\u001b[1;33m==\u001b[0m \u001b[1;36m1998\u001b[0m\u001b[1;33m]\u001b[0m\u001b[1;33m)\u001b[0m\u001b[1;33m\u001b[0m\u001b[1;33m\u001b[0m\u001b[0m\n\u001b[0m\u001b[0;32m      3\u001b[0m     \u001b[0myy2018\u001b[0m \u001b[1;33m=\u001b[0m \u001b[0mfloat\u001b[0m\u001b[1;33m(\u001b[0m\u001b[0mdf\u001b[0m\u001b[1;33m[\u001b[0m\u001b[1;34m'average_price'\u001b[0m\u001b[1;33m]\u001b[0m\u001b[1;33m[\u001b[0m\u001b[0mdf\u001b[0m\u001b[1;33m[\u001b[0m\u001b[1;34m'year'\u001b[0m\u001b[1;33m]\u001b[0m\u001b[1;33m==\u001b[0m \u001b[1;36m2018\u001b[0m\u001b[1;33m]\u001b[0m\u001b[1;33m)\u001b[0m\u001b[1;33m\u001b[0m\u001b[1;33m\u001b[0m\u001b[0m\n\u001b[0;32m      4\u001b[0m     \u001b[0mratio\u001b[0m \u001b[1;33m=\u001b[0m \u001b[1;33m[\u001b[0m\u001b[0myy2018\u001b[0m\u001b[1;33m/\u001b[0m\u001b[0myy1998\u001b[0m\u001b[1;33m]\u001b[0m\u001b[1;33m\u001b[0m\u001b[1;33m\u001b[0m\u001b[0m\n\u001b[0;32m      5\u001b[0m     \u001b[0mprint\u001b[0m\u001b[1;33m(\u001b[0m\u001b[0mratio\u001b[0m\u001b[1;33m)\u001b[0m\u001b[1;33m\u001b[0m\u001b[1;33m\u001b[0m\u001b[0m\n",
      "\u001b[1;32m~\\anaconda3\\lib\\site-packages\\pandas\\core\\series.py\u001b[0m in \u001b[0;36mwrapper\u001b[1;34m(self)\u001b[0m\n\u001b[0;32m    139\u001b[0m         \u001b[1;32mif\u001b[0m \u001b[0mlen\u001b[0m\u001b[1;33m(\u001b[0m\u001b[0mself\u001b[0m\u001b[1;33m)\u001b[0m \u001b[1;33m==\u001b[0m \u001b[1;36m1\u001b[0m\u001b[1;33m:\u001b[0m\u001b[1;33m\u001b[0m\u001b[1;33m\u001b[0m\u001b[0m\n\u001b[0;32m    140\u001b[0m             \u001b[1;32mreturn\u001b[0m \u001b[0mconverter\u001b[0m\u001b[1;33m(\u001b[0m\u001b[0mself\u001b[0m\u001b[1;33m.\u001b[0m\u001b[0miloc\u001b[0m\u001b[1;33m[\u001b[0m\u001b[1;36m0\u001b[0m\u001b[1;33m]\u001b[0m\u001b[1;33m)\u001b[0m\u001b[1;33m\u001b[0m\u001b[1;33m\u001b[0m\u001b[0m\n\u001b[1;32m--> 141\u001b[1;33m         \u001b[1;32mraise\u001b[0m \u001b[0mTypeError\u001b[0m\u001b[1;33m(\u001b[0m\u001b[1;34mf\"cannot convert the series to {converter}\"\u001b[0m\u001b[1;33m)\u001b[0m\u001b[1;33m\u001b[0m\u001b[1;33m\u001b[0m\u001b[0m\n\u001b[0m\u001b[0;32m    142\u001b[0m \u001b[1;33m\u001b[0m\u001b[0m\n\u001b[0;32m    143\u001b[0m     \u001b[0mwrapper\u001b[0m\u001b[1;33m.\u001b[0m\u001b[0m__name__\u001b[0m \u001b[1;33m=\u001b[0m \u001b[1;34mf\"__{converter.__name__}__\"\u001b[0m\u001b[1;33m\u001b[0m\u001b[1;33m\u001b[0m\u001b[0m\n",
      "\u001b[1;31mTypeError\u001b[0m: cannot convert the series to <class 'float'>"
     ]
    }
   ],
   "source": [
    "# why it does not works with df1 and works with dfg ????\n",
    "\n",
    "BD2 = df1[df1['london_borough'] == 'Barking & Dagenham']\n",
    "create_price_ratio(BD2)"
   ]
  },
  {
   "cell_type": "code",
   "execution_count": 61,
   "metadata": {},
   "outputs": [
    {
     "data": {
      "text/html": [
       "<div>\n",
       "<style scoped>\n",
       "    .dataframe tbody tr th:only-of-type {\n",
       "        vertical-align: middle;\n",
       "    }\n",
       "\n",
       "    .dataframe tbody tr th {\n",
       "        vertical-align: top;\n",
       "    }\n",
       "\n",
       "    .dataframe thead th {\n",
       "        text-align: right;\n",
       "    }\n",
       "</style>\n",
       "<table border=\"1\" class=\"dataframe\">\n",
       "  <thead>\n",
       "    <tr style=\"text-align: right;\">\n",
       "      <th></th>\n",
       "      <th>london_borough</th>\n",
       "      <th>year</th>\n",
       "      <th>average_price</th>\n",
       "    </tr>\n",
       "  </thead>\n",
       "  <tbody>\n",
       "    <tr>\n",
       "      <th>0</th>\n",
       "      <td>Barking &amp; Dagenham</td>\n",
       "      <td>1995</td>\n",
       "      <td>51817.969390</td>\n",
       "    </tr>\n",
       "    <tr>\n",
       "      <th>1</th>\n",
       "      <td>Barking &amp; Dagenham</td>\n",
       "      <td>1996</td>\n",
       "      <td>51718.192690</td>\n",
       "    </tr>\n",
       "    <tr>\n",
       "      <th>2</th>\n",
       "      <td>Barking &amp; Dagenham</td>\n",
       "      <td>1997</td>\n",
       "      <td>55974.262309</td>\n",
       "    </tr>\n",
       "  </tbody>\n",
       "</table>\n",
       "</div>"
      ],
      "text/plain": [
       "       london_borough  year  average_price\n",
       "0  Barking & Dagenham  1995   51817.969390\n",
       "1  Barking & Dagenham  1996   51718.192690\n",
       "2  Barking & Dagenham  1997   55974.262309"
      ]
     },
     "execution_count": 61,
     "metadata": {},
     "output_type": "execute_result"
    }
   ],
   "source": [
    "dfg.head(3)"
   ]
  },
  {
   "cell_type": "code",
   "execution_count": 62,
   "metadata": {},
   "outputs": [
    {
     "data": {
      "text/plain": [
       "array(['Barking & Dagenham', 'Barnet', 'Bexley', 'Brent', 'Bromley',\n",
       "       'Camden', 'City of London', 'Croydon', 'Ealing', 'Enfield',\n",
       "       'Greenwich', 'Hackney', 'Hammersmith & Fulham', 'Haringey',\n",
       "       'Harrow', 'Havering', 'Hillingdon', 'Hounslow', 'Islington',\n",
       "       'Kensington & Chelsea', 'Kingston upon Thames', 'Lambeth',\n",
       "       'Lewisham', 'Merton', 'Newham', 'Redbridge',\n",
       "       'Richmond upon Thames', 'Southwark', 'Sutton', 'Tower Hamlets',\n",
       "       'Waltham Forest', 'Wandsworth', 'Westminster'], dtype=object)"
      ]
     },
     "execution_count": 62,
     "metadata": {},
     "output_type": "execute_result"
    }
   ],
   "source": [
    "london_borough = dfg['london_borough'].unique()\n",
    "london_borough"
   ]
  },
  {
   "cell_type": "code",
   "execution_count": 63,
   "metadata": {},
   "outputs": [],
   "source": [
    "london_ratio_price = {}"
   ]
  },
  {
   "cell_type": "code",
   "execution_count": 75,
   "metadata": {},
   "outputs": [
    {
     "name": "stdout",
     "output_type": "stream",
     "text": [
      "[4.89661861291754]\n",
      "[4.358195917538044]\n",
      "[4.248977046127877]\n",
      "[4.8945544971392865]\n",
      "[4.0947846853338765]\n",
      "[4.935353408884261]\n",
      "[5.301620377587609]\n",
      "[4.201100280024767]\n",
      "[4.311450902121834]\n",
      "[4.26347158349581]\n",
      "[4.763036347329193]\n",
      "[6.198285561008662]\n",
      "[4.137798101936229]\n",
      "[5.134624964136042]\n",
      "[4.0591964329643195]\n",
      "[4.325230371335308]\n",
      "[4.2002730803844575]\n",
      "[3.976409106143329]\n",
      "[4.844048012802298]\n",
      "[5.082465066092464]\n",
      "[4.270549521484271]\n",
      "[4.957751163514063]\n",
      "[5.449221041059685]\n",
      "[4.741273313294604]\n",
      "[5.305390437201879]\n",
      "[4.471182006097364]\n",
      "[4.005161895721457]\n",
      "[5.516485302379376]\n",
      "[4.118522608573157]\n",
      "[4.62670104006116]\n",
      "[5.83475580932281]\n",
      "[4.757709347739269]\n",
      "[5.353565392605413]\n",
      "{'Barking & Dagenham': None, 'Barnet': None, 'Bexley': None, 'Brent': None, 'Bromley': None, 'Camden': None, 'City of London': None, 'Croydon': None, 'Ealing': None, 'Enfield': None, 'Greenwich': None, 'Hackney': None, 'Hammersmith & Fulham': None, 'Haringey': None, 'Harrow': None, 'Havering': None, 'Hillingdon': None, 'Hounslow': None, 'Islington': None, 'Kensington & Chelsea': None, 'Kingston upon Thames': None, 'Lambeth': None, 'Lewisham': None, 'Merton': None, 'Newham': None, 'Redbridge': None, 'Richmond upon Thames': None, 'Southwark': None, 'Sutton': None, 'Tower Hamlets': None, 'Waltham Forest': None, 'Wandsworth': None, 'Westminster': None, 'city': None}\n"
     ]
    }
   ],
   "source": [
    "for city in london_borough:\n",
    "    d = dfg[dfg['london_borough'] == city]\n",
    "    ratio = create_price_ratio(d)\n",
    "    london_ratio_price[city] = ratio\n",
    "    \n",
    "print(london_ratio_price)  "
   ]
  },
  {
   "cell_type": "code",
   "execution_count": 66,
   "metadata": {},
   "outputs": [],
   "source": [
    "final = {}"
   ]
  },
  {
   "cell_type": "code",
   "execution_count": 67,
   "metadata": {},
   "outputs": [
    {
     "name": "stdout",
     "output_type": "stream",
     "text": [
      "[4.89661861291754]\n",
      "[4.358195917538044]\n",
      "[4.248977046127877]\n",
      "[4.8945544971392865]\n",
      "[4.0947846853338765]\n",
      "[4.935353408884261]\n",
      "[5.301620377587609]\n",
      "[4.201100280024767]\n",
      "[4.311450902121834]\n",
      "[4.26347158349581]\n",
      "[4.763036347329193]\n",
      "[6.198285561008662]\n",
      "[4.137798101936229]\n",
      "[5.134624964136042]\n",
      "[4.0591964329643195]\n",
      "[4.325230371335308]\n",
      "[4.2002730803844575]\n",
      "[3.976409106143329]\n",
      "[4.844048012802298]\n",
      "[5.082465066092464]\n",
      "[4.270549521484271]\n",
      "[4.957751163514063]\n",
      "[5.449221041059685]\n",
      "[4.741273313294604]\n",
      "[5.305390437201879]\n",
      "[4.471182006097364]\n",
      "[4.005161895721457]\n",
      "[5.516485302379376]\n",
      "[4.118522608573157]\n",
      "[4.62670104006116]\n",
      "[5.83475580932281]\n",
      "[4.757709347739269]\n",
      "[5.353565392605413]\n",
      "{'Barking & Dagenham': None, 'Barnet': None, 'Bexley': None, 'Brent': None, 'Bromley': None, 'Camden': None, 'City of London': None, 'Croydon': None, 'Ealing': None, 'Enfield': None, 'Greenwich': None, 'Hackney': None, 'Hammersmith & Fulham': None, 'Haringey': None, 'Harrow': None, 'Havering': None, 'Hillingdon': None, 'Hounslow': None, 'Islington': None, 'Kensington & Chelsea': None, 'Kingston upon Thames': None, 'Lambeth': None, 'Lewisham': None, 'Merton': None, 'Newham': None, 'Redbridge': None, 'Richmond upon Thames': None, 'Southwark': None, 'Sutton': None, 'Tower Hamlets': None, 'Waltham Forest': None, 'Wandsworth': None, 'Westminster': None}\n"
     ]
    }
   ],
   "source": [
    "# Now let's declare a for loop that will iterate through each of the unique elements of the 'London_Borough' column of our DataFrame dfg.\n",
    "# Call the iterator variable 'b'. \n",
    "for b in dfg['london_borough'].unique():\n",
    "    # Let's make our parameter to our create_price_ratio function: i.e., we subset dfg on 'London_Borough' == b. \n",
    "    borough = dfg[dfg['london_borough'] == b]\n",
    "    # Make a new entry in the final dictionary whose value's the result of calling create_price_ratio with the argument: borough\n",
    "    final[b] = create_price_ratio(borough)\n",
    "# We use the function and incorporate that into a new key of the dictionary \n",
    "print(final) "
   ]
  },
  {
   "cell_type": "code",
   "execution_count": 69,
   "metadata": {},
   "outputs": [
    {
     "data": {
      "text/plain": [
       "{'Barking & Dagenham': None,\n",
       " 'Barnet': None,\n",
       " 'Bexley': None,\n",
       " 'Brent': None,\n",
       " 'Bromley': None,\n",
       " 'Camden': None,\n",
       " 'City of London': None,\n",
       " 'Croydon': None,\n",
       " 'Ealing': None,\n",
       " 'Enfield': None,\n",
       " 'Greenwich': None,\n",
       " 'Hackney': None,\n",
       " 'Hammersmith & Fulham': None,\n",
       " 'Haringey': None,\n",
       " 'Harrow': None,\n",
       " 'Havering': None,\n",
       " 'Hillingdon': None,\n",
       " 'Hounslow': None,\n",
       " 'Islington': None,\n",
       " 'Kensington & Chelsea': None,\n",
       " 'Kingston upon Thames': None,\n",
       " 'Lambeth': None,\n",
       " 'Lewisham': None,\n",
       " 'Merton': None,\n",
       " 'Newham': None,\n",
       " 'Redbridge': None,\n",
       " 'Richmond upon Thames': None,\n",
       " 'Southwark': None,\n",
       " 'Sutton': None,\n",
       " 'Tower Hamlets': None,\n",
       " 'Waltham Forest': None,\n",
       " 'Wandsworth': None,\n",
       " 'Westminster': None}"
      ]
     },
     "execution_count": 69,
     "metadata": {},
     "output_type": "execute_result"
    }
   ],
   "source": [
    "final"
   ]
  },
  {
   "cell_type": "code",
   "execution_count": null,
   "metadata": {},
   "outputs": [],
   "source": []
  },
  {
   "cell_type": "code",
   "execution_count": null,
   "metadata": {},
   "outputs": [],
   "source": []
  },
  {
   "cell_type": "code",
   "execution_count": null,
   "metadata": {},
   "outputs": [],
   "source": []
  },
  {
   "cell_type": "code",
   "execution_count": null,
   "metadata": {},
   "outputs": [],
   "source": []
  },
  {
   "cell_type": "markdown",
   "metadata": {
    "colab_type": "text",
    "id": "NzYUI7FxJpgv"
   },
   "source": [
    "### 4. Conclusion\n",
    "What can you conclude? Type out your conclusion below. \n",
    "\n",
    "Look back at your notebook. Think about how you might summarize what you have done, and prepare a quick presentation on it to your mentor at your next meeting. \n",
    "\n",
    "We hope you enjoyed this practical project. It should have consolidated your data hygiene and pandas skills by looking at a real-world problem involving just the kind of dataset you might encounter as a budding data scientist. Congratulations, and looking forward to seeing you at the next step in the course! "
   ]
  }
 ],
 "metadata": {
  "colab": {
   "collapsed_sections": [],
   "name": "Springboard Data Science Career Track Unit 4 Challenge - Tier 3 Complete .ipynb",
   "provenance": []
  },
  "kernelspec": {
   "display_name": "Python 3",
   "language": "python",
   "name": "python3"
  },
  "language_info": {
   "codemirror_mode": {
    "name": "ipython",
    "version": 3
   },
   "file_extension": ".py",
   "mimetype": "text/x-python",
   "name": "python",
   "nbconvert_exporter": "python",
   "pygments_lexer": "ipython3",
   "version": "3.8.10"
  }
 },
 "nbformat": 4,
 "nbformat_minor": 1
}
